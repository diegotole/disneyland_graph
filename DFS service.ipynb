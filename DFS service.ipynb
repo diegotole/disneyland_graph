{
 "cells": [
  {
   "cell_type": "code",
   "execution_count": 1,
   "metadata": {},
   "outputs": [],
   "source": [
    "from dfs_service import DFS, distance_obj,filter_dups,find_best_connection_distance,MySolutionMap\n",
    "from dfs_service import connection_exists\n",
    "from itertools import permutations\n",
    "import settings\n",
    "import time\n",
    "from decimal import Decimal\n",
    "from utils import load_maps"
   ]
  },
  {
   "cell_type": "code",
   "execution_count": 2,
   "metadata": {},
   "outputs": [],
   "source": [
    "distances = distance_obj()\n",
    "ride_map = load_maps()"
   ]
  },
  {
   "cell_type": "code",
   "execution_count": 3,
   "metadata": {},
   "outputs": [
    {
     "name": "stdout",
     "output_type": "stream",
     "text": [
      " permutations of all regions 362880\n",
      "\n"
     ]
    }
   ],
   "source": [
    " # nested loop,region to region connection\n",
    "all_regions_connections = permutations([region_name for region_list, region_name in settings.REGIONS_LIST])\n",
    "all_regions_connections = list(all_regions_connections)\n",
    "print(f\" permutations of all regions {len(list(all_regions_connections))}\\n\")"
   ]
  },
  {
   "cell_type": "code",
   "execution_count": 4,
   "metadata": {},
   "outputs": [],
   "source": [
    "# ride_map"
   ]
  },
  {
   "cell_type": "code",
   "execution_count": 5,
   "metadata": {},
   "outputs": [
    {
     "name": "stdout",
     "output_type": "stream",
     "text": [
      " STAR_WARS_GALAXY_EDGE region took 0.002933979034423828, total solutions 2 after filter 2\n",
      "\n",
      " TOON_TOWN region took 0.034837961196899414, total solutions 1728 after filter 54\n",
      "\n",
      " CRITTER_COUNTRY region took 0.002032756805419922, total solutions 6 after filter 6\n",
      "\n",
      " NEW_ORLEANS_SQUARE region took 0.00191497802734375, total solutions 4 after filter 4\n",
      "\n",
      " FRONTIER_LAND region took 0.002048015594482422, total solutions 4 after filter 4\n",
      "\n",
      " ADVENTURE_LAND region took 0.0018639564514160156, total solutions 4 after filter 4\n",
      "\n",
      " MAIN_STREET region took 0.01076197624206543, total solutions 648 after filter 42\n",
      "\n",
      " TOMORROW_LAND region took 0.00600886344909668, total solutions 72 after filter 24\n",
      "\n",
      "1000000\n",
      "2000000\n",
      "3000000\n",
      "4000000\n",
      "5000000\n",
      "6000000\n",
      "7000000\n",
      "8000000\n",
      "9000000\n",
      "10000000\n",
      " FANTASY_LAND region took 28.97538995742798, total solutions 237973 after filter 24\n",
      "\n",
      " full searches took 29.03848910331726\n"
     ]
    }
   ],
   "source": [
    "solution_map = MySolutionMap()\n",
    "\n",
    "\n",
    "\n",
    "t0 = time.time()\n",
    "for region_list, region_name in settings.REGIONS_LIST:\n",
    "    t1 = time.time()\n",
    "    d = DFS(region_list)\n",
    "    solutions = d.start()\n",
    "    filtered_solutions = filter_dups(solutions, distances)\n",
    "    # solution_map[region_name] = d.start()\n",
    "    solution_map[region_name] = filtered_solutions\n",
    "\n",
    "    print(\n",
    "        f\" {region_name} region took {time.time() - t1}, total solutions {len(solutions)} after filter {len(filtered_solutions)}\\n\")\n",
    "\n",
    "print(f\" full searches took {time.time() - t0}\")"
   ]
  },
  {
   "cell_type": "code",
   "execution_count": 6,
   "metadata": {},
   "outputs": [
    {
     "data": {
      "text/plain": [
       "{(69026, 19797): [69026, 6984, 76976, 72179, 19797],\n",
       " (69026, 72179): [69026, 6984, 76976, 19797, 72179],\n",
       " (72179, 69026): [72179, 19797, 76976, 6984, 69026],\n",
       " (19797, 69026): [19797, 72179, 76976, 6984, 69026]}"
      ]
     },
     "execution_count": 6,
     "metadata": {},
     "output_type": "execute_result"
    }
   ],
   "source": [
    "solution_map[\"NEW_ORLEANS_SQUARE\"]"
   ]
  },
  {
   "cell_type": "code",
   "execution_count": 7,
   "metadata": {},
   "outputs": [
    {
     "name": "stdout",
     "output_type": "stream",
     "text": [
      "5040\n",
      "all region names ['STAR_WARS_GALAXY_EDGE', 'CRITTER_COUNTRY', 'NEW_ORLEANS_SQUARE', 'FRONTIER_LAND', 'ADVENTURE_LAND', 'TOMORROW_LAND', 'FANTASY_LAND']\n",
      "5040\n",
      "found 5040 region to region paths\n",
      "path contains 8 elements\n"
     ]
    }
   ],
   "source": [
    "# permutation of all region connects\n",
    "# we need to start in main street, so no reason to generate permutations where main street is not first\n",
    "perms = permutations([name for _, name in settings.REGIONS_LIST if name not in { settings.MAIN_STREET_NAME, settings.TOON_TOWN_NAME}])\n",
    "perms = list(perms)\n",
    "print(len(perms))\n",
    "print(f\"all region names {[name for _, name in settings.REGIONS_LIST if name not in { settings.MAIN_STREET_NAME, settings.TOON_TOWN_NAME}]}\")\n",
    "perms = [[settings.MAIN_STREET_NAME] + list(p) for p in perms]\n",
    "print(len(perms))\n",
    "\n",
    "print(f\"found {len(perms)} region to region paths\")\n",
    "print(f\"path contains {len(perms[0]) } elements\")"
   ]
  },
  {
   "cell_type": "code",
   "execution_count": 8,
   "metadata": {},
   "outputs": [
    {
     "name": "stdout",
     "output_type": "stream",
     "text": [
      "['MAIN_STREET', 'ADVENTURE_LAND', 'FRONTIER_LAND', 'NEW_ORLEANS_SQUARE', 'CRITTER_COUNTRY', 'STAR_WARS_GALAXY_EDGE', 'FANTASY_LAND', 'TOMORROW_LAND'] 3295\n"
     ]
    }
   ],
   "source": [
    "\n",
    "# print(settings.REGIONS_LIST)\n",
    "\n",
    "magic = ['MAIN_STREET', 'ADVENTURE_LAND', \"FRONTIER_LAND\", \"NEW_ORLEANS_SQUARE\", \"CRITTER_COUNTRY\", \"STAR_WARS_GALAXY_EDGE\", \"FANTASY_LAND\"]\n",
    "for idx, p in enumerate(perms):\n",
    "    \n",
    "    \n",
    "    if (magic[0] == p[0]) and (magic[1] == p[1]) and (magic[2] == p[2]) and (magic[3] == p[3]):\n",
    "        if (magic[4] == p[4]) and (magic[5] == p[5]) and (magic[6] == p[6]):\n",
    "            print(p, idx)\n",
    "        \n",
    "        \n",
    "        \n",
    "    "
   ]
  },
  {
   "cell_type": "code",
   "execution_count": 9,
   "metadata": {},
   "outputs": [
    {
     "name": "stdout",
     "output_type": "stream",
     "text": [
      "no connection between MAIN_STREET STAR_WARS_GALAXY_EDGE, 1th in path 0\n",
      "\n",
      "\n",
      "no connection between MAIN_STREET CRITTER_COUNTRY, 1th in path 720\n",
      "\n",
      "\n",
      "no connection between MAIN_STREET NEW_ORLEANS_SQUARE, 1th in path 1440\n",
      "\n",
      "\n",
      "no connection between NEW_ORLEANS_SQUARE TOMORROW_LAND, 5th in path 2162\n",
      "\n",
      "\n",
      "no connection between NEW_ORLEANS_SQUARE FANTASY_LAND, 5th in path 2164\n",
      "\n",
      "\n",
      "no connection between CRITTER_COUNTRY ADVENTURE_LAND, 4th in path 2166\n",
      "\n",
      "\n",
      "no connection between CRITTER_COUNTRY TOMORROW_LAND, 4th in path 2172\n",
      "\n",
      "\n",
      "no connection between CRITTER_COUNTRY FANTASY_LAND, 4th in path 2178\n",
      "\n",
      "\n",
      "no connection between STAR_WARS_GALAXY_EDGE NEW_ORLEANS_SQUARE, 3th in path 2184\n",
      "\n",
      "\n",
      "no connection between STAR_WARS_GALAXY_EDGE ADVENTURE_LAND, 3th in path 2208\n",
      "\n",
      "\n",
      "no connection between STAR_WARS_GALAXY_EDGE TOMORROW_LAND, 3th in path 2232\n",
      "\n",
      "\n",
      "no connection between FANTASY_LAND CRITTER_COUNTRY, 4th in path 2256\n",
      "\n",
      "\n",
      "no connection between FANTASY_LAND NEW_ORLEANS_SQUARE, 4th in path 2262\n",
      "\n",
      "\n",
      "no connection between ADVENTURE_LAND CRITTER_COUNTRY, 5th in path 2268\n",
      "\n",
      "\n",
      "no connection between TOMORROW_LAND CRITTER_COUNTRY, 6th in path 2272\n",
      "\n",
      "\n",
      "no connection between TOMORROW_LAND NEW_ORLEANS_SQUARE, 6th in path 2273\n",
      "\n",
      "\n",
      "no connection between NEW_ORLEANS_SQUARE STAR_WARS_GALAXY_EDGE, 4th in path 2304\n",
      "\n",
      "\n",
      "no connection between ADVENTURE_LAND STAR_WARS_GALAXY_EDGE, 5th in path 2310\n",
      "\n",
      "\n",
      "no connection between TOMORROW_LAND STAR_WARS_GALAXY_EDGE, 6th in path 2312\n",
      "\n",
      "\n",
      "no connection between FRONTIER_LAND TOMORROW_LAND, 2th in path 2640\n",
      "\n",
      "\n",
      "no connection between FRONTIER_LAND FANTASY_LAND, 2th in path 2760\n",
      "\n",
      "\n",
      "no connection between FANTASY_LAND FRONTIER_LAND, 6th in path 3148\n",
      "\n",
      "\n",
      "no connection between TOMORROW_LAND FRONTIER_LAND, 7th in path 3149\n",
      "['MAIN_STREET', 'ADVENTURE_LAND', 'NEW_ORLEANS_SQUARE', 'CRITTER_COUNTRY', 'STAR_WARS_GALAXY_EDGE', 'FANTASY_LAND', 'TOMORROW_LAND', 'FRONTIER_LAND']\n",
      "\n",
      "\n",
      "best distance path: 0.67575967785401954\n",
      "longest reached: 7\n",
      "scanned: 5039\n"
     ]
    }
   ],
   "source": [
    "# starting in main street,\n",
    "# inside each solution for source region,check exit node\n",
    "# check if exit node has connection with entry node from next region\n",
    "# if none found, exit path\n",
    "\n",
    "best_distance = float(\"inf\")\n",
    "my_inf = Decimal(float(\"inf\"))\n",
    "deadend = set()\n",
    "longest_path = float(\"-inf\")\n",
    "# print(len(perms))\n",
    "# print(perms[0])\n",
    "best_solutions = []\n",
    "\n",
    "FLOW_SOLUTION = []\n",
    "\n",
    "\n",
    "for pidx, path in enumerate(perms):\n",
    "    \n",
    "    CURR_FLOW = []\n",
    "    \n",
    "    curr_path_distance = Decimal(\"0.0\")\n",
    "#     tmp_distance = 0\n",
    "    for i in range(1, len(path)):\n",
    "        r_source = path[i - 1]\n",
    "        r_target = path[i]\n",
    "        \n",
    "        if (r_source, r_target) in deadend:\n",
    "            curr_path_distance = my_inf\n",
    "            if pidx == 3295:\n",
    "                print(\"FALSE deadend\")\n",
    "            break\n",
    "\n",
    "        tmp_distance = find_best_connection_distance(r_source, r_target, solution_map)\n",
    "        curr_path_distance += tmp_distance\n",
    "        \n",
    "        if tmp_distance == my_inf:\n",
    "            print(f\"no connection between {r_source} {r_target}, {i}th in path {pidx}\")\n",
    "            deadend.add((r_source, r_target))\n",
    "            if i >= 7:\n",
    "                print(f\"{path}\")\n",
    "            \n",
    "            print(\"\\n\")\n",
    "            longest_path = max(longest_path, i)\n",
    "#             curr_path_distance = float(\"inf\")\n",
    "            break\n",
    "            \n",
    "#         else:\n",
    "\n",
    "        \n",
    "    \n",
    "    if  curr_path_distance != my_inf  and (i == len(path)-1):\n",
    "#     if  curr_path_distance != my_inf:\n",
    "        best_distance = min(best_distance, curr_path_distance)\n",
    "        if curr_path_distance == best_distance:\n",
    "            best_path = path\n",
    "            \n",
    "        best_solutions.append( list(path) )\n",
    "        \n",
    "        \n",
    "#     if pidx == 3295:\n",
    "#         print( \"@@@\", i , len(path)-1  ,path, curr_path_distance )\n",
    "\n",
    "print(f\"best distance path: {best_distance}\")\n",
    "print(f\"longest reached: {longest_path}\")\n",
    "print(f\"scanned: {pidx}\")"
   ]
  },
  {
   "cell_type": "code",
   "execution_count": 10,
   "metadata": {},
   "outputs": [],
   "source": [
    "### use DFS to find all combinations\n",
    "\n",
    "all_possibilities = []\n",
    "\n",
    "#path:   main street, tomorrowland, fantasyland ....\n",
    "for pidx, path in enumerate(perms):\n",
    "    \n",
    "        path_possibilities = [  solution_map[path[0] ]  ]\n",
    "        \n",
    "        for i in range(1, len(path)):\n",
    "            r_source = path[i - 1]\n",
    "            r_target = path[i]\n",
    "            #source, target = main street, tomorrowland\n",
    "            \n",
    "            #is it a dead end?\n",
    "            ###\n",
    "            if not connection_exists(r_source, r_target, solution_map):\n",
    "                continue\n",
    "            \n",
    "            \n",
    "            \n",
    "            \n",
    "            #get connections:\n",
    "            #source = [  [entrance, store1 ], [entrance, store2]   ]\n",
    "            #target = [  [orbital, space mountain], [ buzz, nemo]   ]\n",
    "            \n",
    "            path_possibilities.append( solution_map[r_target] )\n",
    "        \n",
    "        \n",
    "        if len(path) == len(path_possibilities):\n",
    "            all_possibilities.append( path_possibilities  )\n",
    "        \n",
    "            \n",
    "\n",
    "\n",
    "\n",
    "\n",
    "\n"
   ]
  },
  {
   "cell_type": "code",
   "execution_count": 16,
   "metadata": {},
   "outputs": [
    {
     "name": "stdout",
     "output_type": "stream",
     "text": [
      "45\n"
     ]
    }
   ],
   "source": [
    "print(len(all_possibilities))"
   ]
  },
  {
   "cell_type": "code",
   "execution_count": 11,
   "metadata": {},
   "outputs": [
    {
     "name": "stdout",
     "output_type": "stream",
     "text": [
      "{('NEW_ORLEANS_SQUARE', 'FANTASY_LAND'), ('FANTASY_LAND', 'NEW_ORLEANS_SQUARE'), ('STAR_WARS_GALAXY_EDGE', 'TOMORROW_LAND'), ('TOMORROW_LAND', 'CRITTER_COUNTRY'), ('NEW_ORLEANS_SQUARE', 'TOMORROW_LAND'), ('CRITTER_COUNTRY', 'TOMORROW_LAND'), ('TOMORROW_LAND', 'NEW_ORLEANS_SQUARE'), ('MAIN_STREET', 'NEW_ORLEANS_SQUARE'), ('ADVENTURE_LAND', 'STAR_WARS_GALAXY_EDGE'), ('STAR_WARS_GALAXY_EDGE', 'NEW_ORLEANS_SQUARE'), ('TOMORROW_LAND', 'FRONTIER_LAND'), ('FRONTIER_LAND', 'TOMORROW_LAND'), ('FANTASY_LAND', 'CRITTER_COUNTRY'), ('FANTASY_LAND', 'FRONTIER_LAND'), ('STAR_WARS_GALAXY_EDGE', 'ADVENTURE_LAND'), ('TOMORROW_LAND', 'STAR_WARS_GALAXY_EDGE'), ('FRONTIER_LAND', 'FANTASY_LAND'), ('MAIN_STREET', 'CRITTER_COUNTRY'), ('MAIN_STREET', 'STAR_WARS_GALAXY_EDGE'), ('CRITTER_COUNTRY', 'ADVENTURE_LAND'), ('CRITTER_COUNTRY', 'FANTASY_LAND'), ('NEW_ORLEANS_SQUARE', 'STAR_WARS_GALAXY_EDGE'), ('ADVENTURE_LAND', 'CRITTER_COUNTRY')}\n"
     ]
    }
   ],
   "source": [
    "print(deadend)"
   ]
  },
  {
   "cell_type": "code",
   "execution_count": 12,
   "metadata": {},
   "outputs": [
    {
     "name": "stdout",
     "output_type": "stream",
     "text": [
      "45\n",
      "['MAIN_STREET', 'TOMORROW_LAND', 'FANTASY_LAND', 'ADVENTURE_LAND', 'FRONTIER_LAND', 'NEW_ORLEANS_SQUARE', 'CRITTER_COUNTRY', 'STAR_WARS_GALAXY_EDGE']\n"
     ]
    }
   ],
   "source": [
    "print(len(best_solutions))\n",
    "print(best_path)"
   ]
  },
  {
   "cell_type": "code",
   "execution_count": 13,
   "metadata": {},
   "outputs": [
    {
     "name": "stdout",
     "output_type": "stream",
     "text": [
      "MAIN_STREET TOMORROW_LAND 0.11178482480398058 False\n",
      "FANTASY_LAND TOMORROW_LAND 0.08661118592832563 False\n",
      "FANTASY_LAND ADVENTURE_LAND 0.11867273923671834 False\n",
      "FRONTIER_LAND ADVENTURE_LAND 0.05174383191634434 False\n",
      "FRONTIER_LAND CRITTER_COUNTRY 0.09229982679104619 False\n",
      "NEW_ORLEANS_SQUARE CRITTER_COUNTRY 0.05021377438156316 False\n",
      "NEW_ORLEANS_SQUARE STAR_WARS_GALAXY_EDGE Infinity True\n",
      "FANTASY_LAND TOON_TOWN 0.07229029191445366 False\n"
     ]
    }
   ],
   "source": [
    "\n",
    "conns = (\n",
    "#     (\"CRITTER_COUNTRY\", \"NEW_ORLEANS_SQUARE\"),\n",
    "#     (\"ADVENTURE_LAND\", \"NEW_ORLEANS_SQUARE\"),\n",
    "#     (\"ADVENTURE_LAND\", \"FRONTIER_LAND\"),\n",
    "#      (\"NEW_ORLEANS_SQUARE\", \"FRONTIER_LAND\"),\n",
    "#      (\"NEW_ORLEANS_SQUARE\", \"ADVENTURE_LAND\"),\n",
    "#          (\"NEW_ORLEANS_SQUARE\", \"CRITTER_COUNTRY\"),\n",
    "#              (\"MAIN_STREET\", \"ADVENTURE_LAND\"),\n",
    "#     (\"ADVENTURE_LAND\", \"FRONTIER_LAND\"),\n",
    "#     (\"FRONTIER_LAND\", \"NEW_ORLEANS_SQUARE\"),\n",
    "#     (\"NEW_ORLEANS_SQUARE\",\"CRITTER_COUNTRY\",),\n",
    "#     (\"CRITTER_COUNTRY\", \"STAR_WARS_GALAXY_EDGE\"),\n",
    "#     ( \"STAR_WARS_GALAXY_EDGE\", \"FANTASY_LAND\"),\n",
    "#     (\"FANTASY_LAND\", \"TOMORROW_LAND\"),\n",
    "    \n",
    "#         (\"NEW_ORLEANS_SQUARE\", \"STAR_WARS_GALAXY_EDGE\"),\n",
    "#                  (\"MAIN_STREET\", \"NEW_ORLEANS_SQUARE\"),\n",
    "    \n",
    "    (\"MAIN_STREET\", \"TOMORROW_LAND\"),\n",
    "    (\"FANTASY_LAND\", \"TOMORROW_LAND\"),\n",
    "    (\"FANTASY_LAND\", \"ADVENTURE_LAND\"),\n",
    "    (\"FRONTIER_LAND\", \"ADVENTURE_LAND\"),\n",
    "    (\"FRONTIER_LAND\", \"CRITTER_COUNTRY\"),\n",
    "    (\"NEW_ORLEANS_SQUARE\", \"CRITTER_COUNTRY\"),\n",
    "    (\"NEW_ORLEANS_SQUARE\", \"STAR_WARS_GALAXY_EDGE\"),\n",
    "    (\"FANTASY_LAND\", \"TOON_TOWN\"),\n",
    "\n",
    "\n",
    "    \n",
    "    \n",
    "    \n",
    "\n",
    "\n",
    ")\n",
    "\n",
    "for r_source, r_target in conns:\n",
    "    tmp_distance = find_best_connection_distance(r_source, r_target, solution_map)\n",
    "    print(r_source, r_target,  tmp_distance, (r_source, r_target) in deadend )"
   ]
  },
  {
   "cell_type": "code",
   "execution_count": 14,
   "metadata": {},
   "outputs": [
    {
     "name": "stdout",
     "output_type": "stream",
     "text": [
      "('sleeping beauty castle walkthrough', \"it's a small world\"): ['sleeping beauty castle walkthrough', \"mr. toad's wild ride\", 'mad tea party', 'matterhorn bobsleds', 'alice in wonderland', 'dumbo the flying elephant', \"snow white's scary adventures\", \"peter pan's flight\", \"casey's jr train\", \"pinocchio's daring journey\", 'king arthur carrousel', 'storybook land canal boats', 'its a small world holiday', \"it's a small world\"]\n",
      "\n",
      "\n",
      "('sleeping beauty castle walkthrough', 'its a small world holiday'): ['sleeping beauty castle walkthrough', \"mr. toad's wild ride\", 'mad tea party', 'matterhorn bobsleds', 'alice in wonderland', 'dumbo the flying elephant', \"snow white's scary adventures\", \"peter pan's flight\", \"casey's jr train\", \"pinocchio's daring journey\", 'king arthur carrousel', 'storybook land canal boats', \"it's a small world\", 'its a small world holiday']\n",
      "\n",
      "\n",
      "('mad tea party', \"it's a small world\"): ['mad tea party', 'matterhorn bobsleds', 'alice in wonderland', 'dumbo the flying elephant', \"mr. toad's wild ride\", 'sleeping beauty castle walkthrough', \"snow white's scary adventures\", \"peter pan's flight\", \"casey's jr train\", \"pinocchio's daring journey\", 'king arthur carrousel', 'storybook land canal boats', 'its a small world holiday', \"it's a small world\"]\n",
      "\n",
      "\n",
      "('mad tea party', 'its a small world holiday'): ['mad tea party', 'matterhorn bobsleds', 'alice in wonderland', 'dumbo the flying elephant', \"mr. toad's wild ride\", 'sleeping beauty castle walkthrough', \"snow white's scary adventures\", \"peter pan's flight\", \"casey's jr train\", \"pinocchio's daring journey\", 'king arthur carrousel', 'storybook land canal boats', \"it's a small world\", 'its a small world holiday']\n",
      "\n",
      "\n",
      "('matterhorn bobsleds', \"it's a small world\"): ['matterhorn bobsleds', 'mad tea party', 'dumbo the flying elephant', \"mr. toad's wild ride\", 'sleeping beauty castle walkthrough', \"snow white's scary adventures\", \"peter pan's flight\", \"casey's jr train\", \"pinocchio's daring journey\", 'king arthur carrousel', 'alice in wonderland', 'storybook land canal boats', 'its a small world holiday', \"it's a small world\"]\n",
      "\n",
      "\n",
      "('matterhorn bobsleds', 'its a small world holiday'): ['matterhorn bobsleds', 'mad tea party', 'dumbo the flying elephant', \"mr. toad's wild ride\", 'sleeping beauty castle walkthrough', \"snow white's scary adventures\", \"peter pan's flight\", \"casey's jr train\", \"pinocchio's daring journey\", 'king arthur carrousel', 'alice in wonderland', 'storybook land canal boats', \"it's a small world\", 'its a small world holiday']\n",
      "\n",
      "\n",
      "('dumbo the flying elephant', \"it's a small world\"): ['dumbo the flying elephant', 'mad tea party', 'matterhorn bobsleds', 'alice in wonderland', \"mr. toad's wild ride\", 'sleeping beauty castle walkthrough', \"snow white's scary adventures\", \"peter pan's flight\", \"casey's jr train\", \"pinocchio's daring journey\", 'king arthur carrousel', 'storybook land canal boats', 'its a small world holiday', \"it's a small world\"]\n",
      "\n",
      "\n",
      "('dumbo the flying elephant', 'its a small world holiday'): ['dumbo the flying elephant', 'mad tea party', 'matterhorn bobsleds', 'alice in wonderland', \"mr. toad's wild ride\", 'sleeping beauty castle walkthrough', \"snow white's scary adventures\", \"peter pan's flight\", \"casey's jr train\", \"pinocchio's daring journey\", 'king arthur carrousel', 'storybook land canal boats', \"it's a small world\", 'its a small world holiday']\n",
      "\n",
      "\n",
      "(\"mr. toad's wild ride\", \"it's a small world\"): [\"mr. toad's wild ride\", 'sleeping beauty castle walkthrough', \"snow white's scary adventures\", 'dumbo the flying elephant', 'mad tea party', 'matterhorn bobsleds', 'alice in wonderland', \"peter pan's flight\", \"casey's jr train\", \"pinocchio's daring journey\", 'king arthur carrousel', 'storybook land canal boats', 'its a small world holiday', \"it's a small world\"]\n",
      "\n",
      "\n",
      "(\"mr. toad's wild ride\", 'its a small world holiday'): [\"mr. toad's wild ride\", 'sleeping beauty castle walkthrough', \"snow white's scary adventures\", 'dumbo the flying elephant', 'mad tea party', 'matterhorn bobsleds', 'alice in wonderland', \"peter pan's flight\", \"casey's jr train\", \"pinocchio's daring journey\", 'king arthur carrousel', 'storybook land canal boats', \"it's a small world\", 'its a small world holiday']\n",
      "\n",
      "\n",
      "('alice in wonderland', \"it's a small world\"): ['alice in wonderland', 'matterhorn bobsleds', 'mad tea party', 'dumbo the flying elephant', \"mr. toad's wild ride\", 'sleeping beauty castle walkthrough', \"snow white's scary adventures\", \"peter pan's flight\", \"casey's jr train\", \"pinocchio's daring journey\", 'king arthur carrousel', 'storybook land canal boats', 'its a small world holiday', \"it's a small world\"]\n",
      "\n",
      "\n",
      "('alice in wonderland', 'its a small world holiday'): ['alice in wonderland', 'matterhorn bobsleds', 'mad tea party', 'dumbo the flying elephant', \"mr. toad's wild ride\", 'sleeping beauty castle walkthrough', \"snow white's scary adventures\", \"peter pan's flight\", \"casey's jr train\", \"pinocchio's daring journey\", 'king arthur carrousel', 'storybook land canal boats', \"it's a small world\", 'its a small world holiday']\n",
      "\n",
      "\n",
      "('its a small world holiday', \"pinocchio's daring journey\"): ['its a small world holiday', \"it's a small world\", 'storybook land canal boats', 'mad tea party', 'matterhorn bobsleds', 'alice in wonderland', 'dumbo the flying elephant', \"mr. toad's wild ride\", 'sleeping beauty castle walkthrough', \"snow white's scary adventures\", \"peter pan's flight\", \"casey's jr train\", 'king arthur carrousel', \"pinocchio's daring journey\"]\n",
      "\n",
      "\n",
      "('its a small world holiday', 'king arthur carrousel'): ['its a small world holiday', \"it's a small world\", 'storybook land canal boats', 'mad tea party', 'matterhorn bobsleds', 'alice in wonderland', 'dumbo the flying elephant', \"mr. toad's wild ride\", 'sleeping beauty castle walkthrough', \"snow white's scary adventures\", \"peter pan's flight\", \"casey's jr train\", \"pinocchio's daring journey\", 'king arthur carrousel']\n",
      "\n",
      "\n",
      "('its a small world holiday', \"casey's jr train\"): ['its a small world holiday', \"it's a small world\", 'storybook land canal boats', 'mad tea party', 'matterhorn bobsleds', 'alice in wonderland', 'dumbo the flying elephant', \"mr. toad's wild ride\", 'sleeping beauty castle walkthrough', \"snow white's scary adventures\", \"peter pan's flight\", 'king arthur carrousel', \"pinocchio's daring journey\", \"casey's jr train\"]\n",
      "\n",
      "\n",
      "('its a small world holiday', \"peter pan's flight\"): ['its a small world holiday', \"it's a small world\", 'storybook land canal boats', 'mad tea party', 'matterhorn bobsleds', 'alice in wonderland', 'dumbo the flying elephant', \"mr. toad's wild ride\", 'sleeping beauty castle walkthrough', \"snow white's scary adventures\", \"casey's jr train\", 'king arthur carrousel', \"pinocchio's daring journey\", \"peter pan's flight\"]\n",
      "\n",
      "\n",
      "('its a small world holiday', \"snow white's scary adventures\"): ['its a small world holiday', \"it's a small world\", 'storybook land canal boats', 'mad tea party', 'matterhorn bobsleds', 'alice in wonderland', 'dumbo the flying elephant', \"mr. toad's wild ride\", 'sleeping beauty castle walkthrough', \"peter pan's flight\", \"casey's jr train\", 'king arthur carrousel', \"pinocchio's daring journey\", \"snow white's scary adventures\"]\n",
      "\n",
      "\n",
      "('its a small world holiday', 'sleeping beauty castle walkthrough'): ['its a small world holiday', \"it's a small world\", 'storybook land canal boats', 'mad tea party', 'matterhorn bobsleds', 'alice in wonderland', 'dumbo the flying elephant', \"mr. toad's wild ride\", \"snow white's scary adventures\", \"peter pan's flight\", \"casey's jr train\", 'king arthur carrousel', \"pinocchio's daring journey\", 'sleeping beauty castle walkthrough']\n",
      "\n",
      "\n",
      "('its a small world holiday', \"mr. toad's wild ride\"): ['its a small world holiday', \"it's a small world\", 'storybook land canal boats', 'mad tea party', 'matterhorn bobsleds', 'alice in wonderland', 'dumbo the flying elephant', \"snow white's scary adventures\", 'sleeping beauty castle walkthrough', \"peter pan's flight\", \"casey's jr train\", 'king arthur carrousel', \"pinocchio's daring journey\", \"mr. toad's wild ride\"]\n",
      "\n",
      "\n",
      "('its a small world holiday', 'dumbo the flying elephant'): ['its a small world holiday', \"it's a small world\", 'storybook land canal boats', 'mad tea party', 'matterhorn bobsleds', 'alice in wonderland', \"mr. toad's wild ride\", 'sleeping beauty castle walkthrough', \"snow white's scary adventures\", \"peter pan's flight\", \"casey's jr train\", 'king arthur carrousel', \"pinocchio's daring journey\", 'dumbo the flying elephant']\n",
      "\n",
      "\n",
      "('its a small world holiday', 'matterhorn bobsleds'): ['its a small world holiday', \"it's a small world\", 'storybook land canal boats', 'mad tea party', 'dumbo the flying elephant', \"mr. toad's wild ride\", 'sleeping beauty castle walkthrough', \"snow white's scary adventures\", \"peter pan's flight\", \"casey's jr train\", \"pinocchio's daring journey\", 'king arthur carrousel', 'alice in wonderland', 'matterhorn bobsleds']\n",
      "\n",
      "\n",
      "('its a small world holiday', 'alice in wonderland'): ['its a small world holiday', \"it's a small world\", 'storybook land canal boats', 'matterhorn bobsleds', 'mad tea party', 'dumbo the flying elephant', \"mr. toad's wild ride\", 'sleeping beauty castle walkthrough', \"snow white's scary adventures\", \"peter pan's flight\", \"casey's jr train\", \"pinocchio's daring journey\", 'king arthur carrousel', 'alice in wonderland']\n",
      "\n",
      "\n",
      "('its a small world holiday', 'mad tea party'): ['its a small world holiday', \"it's a small world\", 'storybook land canal boats', 'matterhorn bobsleds', 'alice in wonderland', 'dumbo the flying elephant', \"mr. toad's wild ride\", 'sleeping beauty castle walkthrough', \"snow white's scary adventures\", \"peter pan's flight\", \"casey's jr train\", \"pinocchio's daring journey\", 'king arthur carrousel', 'mad tea party']\n",
      "\n",
      "\n",
      "(\"it's a small world\", \"pinocchio's daring journey\"): [\"it's a small world\", 'its a small world holiday', 'storybook land canal boats', 'mad tea party', 'matterhorn bobsleds', 'alice in wonderland', 'dumbo the flying elephant', \"mr. toad's wild ride\", 'sleeping beauty castle walkthrough', \"snow white's scary adventures\", \"peter pan's flight\", \"casey's jr train\", 'king arthur carrousel', \"pinocchio's daring journey\"]\n",
      "\n",
      "\n"
     ]
    }
   ],
   "source": [
    "for key in solution_map['FANTASY_LAND']:\n",
    "    \n",
    "    k1, k2 = key\n",
    "    k1,k2 = ride_map[k1]['name'],ride_map[k2]['name']\n",
    "    \n",
    "    print(f\"{(k1,k2)}: {[   ride_map[e]['name']  for e in solution_map['FANTASY_LAND'][key]    ]}\\n\\n\")\n"
   ]
  },
  {
   "cell_type": "code",
   "execution_count": 15,
   "metadata": {},
   "outputs": [
    {
     "name": "stdout",
     "output_type": "stream",
     "text": [
      "(\"tarzan's tree house\", \"walt disney's enchanted tiki room\"): [\"tarzan's tree house\", 'indiana jones™ adventure', 'jungle cruise', \"walt disney's enchanted tiki room\"]\n",
      "\n",
      "\n",
      "(\"walt disney's enchanted tiki room\", \"tarzan's tree house\"): [\"walt disney's enchanted tiki room\", 'jungle cruise', 'indiana jones™ adventure', \"tarzan's tree house\"]\n",
      "\n",
      "\n",
      "(\"walt disney's enchanted tiki room\", 'indiana jones™ adventure'): [\"walt disney's enchanted tiki room\", 'jungle cruise', \"tarzan's tree house\", 'indiana jones™ adventure']\n",
      "\n",
      "\n",
      "('indiana jones™ adventure', \"walt disney's enchanted tiki room\"): ['indiana jones™ adventure', \"tarzan's tree house\", 'jungle cruise', \"walt disney's enchanted tiki room\"]\n",
      "\n",
      "\n"
     ]
    }
   ],
   "source": [
    "for key in solution_map['ADVENTURE_LAND']:\n",
    "    \n",
    "    k1, k2 = key\n",
    "    k1,k2 = ride_map[k1]['name'],ride_map[k2]['name']\n",
    "    \n",
    "    print(f\"{(k1,k2)}: {[   ride_map[e]['name']  for e in solution_map['ADVENTURE_LAND'][key]    ]}\\n\\n\")"
   ]
  },
  {
   "cell_type": "code",
   "execution_count": null,
   "metadata": {},
   "outputs": [],
   "source": []
  }
 ],
 "metadata": {
  "kernelspec": {
   "display_name": "Python 3",
   "language": "python",
   "name": "python3"
  },
  "language_info": {
   "codemirror_mode": {
    "name": "ipython",
    "version": 3
   },
   "file_extension": ".py",
   "mimetype": "text/x-python",
   "name": "python",
   "nbconvert_exporter": "python",
   "pygments_lexer": "ipython3",
   "version": "3.7.6"
  }
 },
 "nbformat": 4,
 "nbformat_minor": 4
}
