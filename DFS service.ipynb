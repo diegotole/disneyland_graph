{
 "cells": [
  {
   "cell_type": "code",
   "execution_count": 1,
   "metadata": {},
   "outputs": [],
   "source": [
    "from dfs_service import DFS, distance_obj,filter_dups,find_best_connection_distance,MySolutionMap\n",
    "from dfs_service import connection_exists,validate_connection, calculate_path_distance\n",
    "from itertools import permutations\n",
    "import settings\n",
    "import time\n",
    "from decimal import Decimal\n",
    "from utils import load_maps"
   ]
  },
  {
   "cell_type": "code",
   "execution_count": 2,
   "metadata": {},
   "outputs": [],
   "source": [
    "distances = distance_obj()\n",
    "ride_map = load_maps()"
   ]
  },
  {
   "cell_type": "code",
   "execution_count": 3,
   "metadata": {},
   "outputs": [
    {
     "name": "stdout",
     "output_type": "stream",
     "text": [
      " permutations of all regions 362880\n",
      "\n"
     ]
    }
   ],
   "source": [
    " # nested loop,region to region connection\n",
    "all_regions_connections = permutations([region_name for region_list, region_name in settings.REGIONS_LIST])\n",
    "all_regions_connections = list(all_regions_connections)\n",
    "print(f\" permutations of all regions {len(list(all_regions_connections))}\\n\")"
   ]
  },
  {
   "cell_type": "code",
   "execution_count": 4,
   "metadata": {},
   "outputs": [],
   "source": [
    "# ride_map"
   ]
  },
  {
   "cell_type": "code",
   "execution_count": 5,
   "metadata": {},
   "outputs": [
    {
     "name": "stdout",
     "output_type": "stream",
     "text": [
      " STAR_WARS_GALAXY_EDGE region took 0.0026459693908691406, total solutions 2 after filter 2\n",
      "\n",
      " TOON_TOWN region took 0.039473772048950195, total solutions 1728 after filter 54\n",
      "\n",
      " CRITTER_COUNTRY region took 0.002070903778076172, total solutions 6 after filter 6\n",
      "\n",
      " NEW_ORLEANS_SQUARE region took 0.0020029544830322266, total solutions 4 after filter 4\n",
      "\n",
      " FRONTIER_LAND region took 0.001986980438232422, total solutions 4 after filter 4\n",
      "\n",
      " ADVENTURE_LAND region took 0.0018987655639648438, total solutions 4 after filter 4\n",
      "\n",
      " MAIN_STREET region took 0.012012958526611328, total solutions 648 after filter 42\n",
      "\n",
      " TOMORROW_LAND region took 0.005934953689575195, total solutions 72 after filter 24\n",
      "\n",
      "1000000\n",
      "2000000\n",
      "3000000\n",
      "4000000\n",
      "5000000\n",
      "6000000\n",
      "7000000\n",
      "8000000\n",
      "9000000\n",
      "10000000\n",
      " FANTASY_LAND region took 30.531293869018555, total solutions 237973 after filter 24\n",
      "\n",
      " full searches took 30.60008716583252\n"
     ]
    }
   ],
   "source": [
    "solution_map = MySolutionMap()\n",
    "\n",
    "\n",
    "\n",
    "t0 = time.time()\n",
    "for region_list, region_name in settings.REGIONS_LIST:\n",
    "    t1 = time.time()\n",
    "    d = DFS(region_list)\n",
    "    solutions = d.start()\n",
    "    filtered_solutions = filter_dups(solutions, distances)\n",
    "    # solution_map[region_name] = d.start()\n",
    "    solution_map[region_name] = filtered_solutions\n",
    "\n",
    "    print(\n",
    "        f\" {region_name} region took {time.time() - t1}, total solutions {len(solutions)} after filter {len(filtered_solutions)}\\n\")\n",
    "\n",
    "print(f\" full searches took {time.time() - t0}\")"
   ]
  },
  {
   "cell_type": "code",
   "execution_count": 6,
   "metadata": {},
   "outputs": [
    {
     "data": {
      "text/plain": [
       "{(69026, 19797): [69026, 6984, 76976, 72179, 19797],\n",
       " (69026, 72179): [69026, 6984, 76976, 19797, 72179],\n",
       " (72179, 69026): [72179, 19797, 76976, 6984, 69026],\n",
       " (19797, 69026): [19797, 72179, 76976, 6984, 69026]}"
      ]
     },
     "execution_count": 6,
     "metadata": {},
     "output_type": "execute_result"
    }
   ],
   "source": [
    "solution_map[\"NEW_ORLEANS_SQUARE\"]"
   ]
  },
  {
   "cell_type": "code",
   "execution_count": 7,
   "metadata": {},
   "outputs": [
    {
     "name": "stdout",
     "output_type": "stream",
     "text": [
      "5040\n",
      "all region names ['STAR_WARS_GALAXY_EDGE', 'CRITTER_COUNTRY', 'NEW_ORLEANS_SQUARE', 'FRONTIER_LAND', 'ADVENTURE_LAND', 'TOMORROW_LAND', 'FANTASY_LAND']\n",
      "5040\n",
      "found 5040 region to region paths\n",
      "path contains 8 elements\n"
     ]
    }
   ],
   "source": [
    "# permutation of all region connects\n",
    "# we need to start in main street, so no reason to generate permutations where main street is not first\n",
    "perms = permutations([name for _, name in settings.REGIONS_LIST if name not in { settings.MAIN_STREET_NAME, settings.TOON_TOWN_NAME}])\n",
    "perms = list(perms)\n",
    "print(len(perms))\n",
    "print(f\"all region names {[name for _, name in settings.REGIONS_LIST if name not in { settings.MAIN_STREET_NAME, settings.TOON_TOWN_NAME}]}\")\n",
    "perms = [[settings.MAIN_STREET_NAME] + list(p) for p in perms]\n",
    "print(len(perms))\n",
    "\n",
    "print(f\"found {len(perms)} region to region paths\")\n",
    "print(f\"path contains {len(perms[0]) } elements\")"
   ]
  },
  {
   "cell_type": "code",
   "execution_count": 8,
   "metadata": {},
   "outputs": [
    {
     "name": "stdout",
     "output_type": "stream",
     "text": [
      "['MAIN_STREET', 'ADVENTURE_LAND', 'FRONTIER_LAND', 'NEW_ORLEANS_SQUARE', 'CRITTER_COUNTRY', 'STAR_WARS_GALAXY_EDGE', 'FANTASY_LAND', 'TOMORROW_LAND'] 3295\n"
     ]
    }
   ],
   "source": [
    "\n",
    "# print(settings.REGIONS_LIST)\n",
    "\n",
    "magic = ['MAIN_STREET', 'ADVENTURE_LAND', \"FRONTIER_LAND\", \"NEW_ORLEANS_SQUARE\", \"CRITTER_COUNTRY\", \"STAR_WARS_GALAXY_EDGE\", \"FANTASY_LAND\"]\n",
    "for idx, p in enumerate(perms):\n",
    "    \n",
    "    \n",
    "    if (magic[0] == p[0]) and (magic[1] == p[1]) and (magic[2] == p[2]) and (magic[3] == p[3]):\n",
    "        if (magic[4] == p[4]) and (magic[5] == p[5]) and (magic[6] == p[6]):\n",
    "            print(p, idx)\n",
    "        \n",
    "        \n",
    "        \n",
    "    "
   ]
  },
  {
   "cell_type": "code",
   "execution_count": null,
   "metadata": {},
   "outputs": [],
   "source": [
    "\n",
    "    "
   ]
  },
  {
   "cell_type": "code",
   "execution_count": 9,
   "metadata": {},
   "outputs": [
    {
     "name": "stdout",
     "output_type": "stream",
     "text": [
      "no VALID connection between MAIN_STREET STAR_WARS_GALAXY_EDGE, 1th in path 0\n",
      "no VALID connection between MAIN_STREET CRITTER_COUNTRY, 1th in path 720\n",
      "no VALID connection between MAIN_STREET NEW_ORLEANS_SQUARE, 1th in path 1440\n",
      "no VALID connection between FANTASY_LAND TOMORROW_LAND, 7th in path 2161\n",
      "no VALID connection between NEW_ORLEANS_SQUARE TOMORROW_LAND, 5th in path 2162\n",
      "no VALID connection between NEW_ORLEANS_SQUARE FANTASY_LAND, 5th in path 2164\n",
      "no VALID connection between CRITTER_COUNTRY ADVENTURE_LAND, 4th in path 2166\n",
      "no VALID connection between CRITTER_COUNTRY TOMORROW_LAND, 4th in path 2172\n",
      "no VALID connection between CRITTER_COUNTRY FANTASY_LAND, 4th in path 2178\n",
      "no VALID connection between STAR_WARS_GALAXY_EDGE NEW_ORLEANS_SQUARE, 3th in path 2184\n",
      "no VALID connection between STAR_WARS_GALAXY_EDGE ADVENTURE_LAND, 3th in path 2208\n",
      "no VALID connection between STAR_WARS_GALAXY_EDGE TOMORROW_LAND, 3th in path 2232\n",
      "no VALID connection between STAR_WARS_GALAXY_EDGE FANTASY_LAND, 3th in path 2256\n",
      "no VALID connection between FRONTIER_LAND CRITTER_COUNTRY, 2th in path 2280\n",
      "no VALID connection between FRONTIER_LAND NEW_ORLEANS_SQUARE, 2th in path 2400\n",
      "no VALID connection between FRONTIER_LAND ADVENTURE_LAND, 2th in path 2520\n",
      "no VALID connection between FRONTIER_LAND TOMORROW_LAND, 2th in path 2640\n",
      "no VALID connection between FRONTIER_LAND FANTASY_LAND, 2th in path 2760\n",
      "no VALID connection between ADVENTURE_LAND STAR_WARS_GALAXY_EDGE, 2th in path 2880\n",
      "no VALID connection between ADVENTURE_LAND CRITTER_COUNTRY, 2th in path 3000\n",
      "no VALID connection between NEW_ORLEANS_SQUARE STAR_WARS_GALAXY_EDGE, 3th in path 3120\n",
      "no VALID connection between ADVENTURE_LAND FRONTIER_LAND, 2th in path 3240\n",
      "no VALID connection between ADVENTURE_LAND TOMORROW_LAND, 2th in path 3360\n",
      "no VALID connection between ADVENTURE_LAND FANTASY_LAND, 2th in path 3480\n",
      "no VALID connection between TOMORROW_LAND STAR_WARS_GALAXY_EDGE, 2th in path 3600\n",
      "no VALID connection between TOMORROW_LAND CRITTER_COUNTRY, 2th in path 3720\n",
      "no VALID connection between TOMORROW_LAND NEW_ORLEANS_SQUARE, 2th in path 3840\n",
      "no VALID connection between TOMORROW_LAND FRONTIER_LAND, 2th in path 3960\n",
      "no VALID connection between TOMORROW_LAND ADVENTURE_LAND, 2th in path 4080\n",
      "no VALID connection between FANTASY_LAND STAR_WARS_GALAXY_EDGE, 3th in path 4200\n",
      "no VALID connection between FANTASY_LAND CRITTER_COUNTRY, 3th in path 4224\n",
      "no VALID connection between FANTASY_LAND NEW_ORLEANS_SQUARE, 3th in path 4248\n",
      "no VALID connection between FANTASY_LAND FRONTIER_LAND, 3th in path 4272\n",
      "no VALID connection between FANTASY_LAND ADVENTURE_LAND, 3th in path 4296\n",
      "best distance path: 0.772132269173597316\n",
      "longest reached: -inf\n",
      "scanned: 5039\n",
      "best solutions: 2\n"
     ]
    }
   ],
   "source": [
    "# starting in main street,\n",
    "# inside each solution for source region,check exit node\n",
    "# check if exit node has connection with entry node from next region\n",
    "# if none found, exit path\n",
    "\n",
    "best_distance = float(\"inf\")\n",
    "my_inf = Decimal(float(\"inf\"))\n",
    "deadend = set()\n",
    "longest_path = float(\"-inf\")\n",
    "# print(len(perms))\n",
    "# print(perms[0])\n",
    "best_solutions = []\n",
    "\n",
    "FLOW_SOLUTION = []\n",
    "rolling_solutions = []\n",
    "\n",
    "for pidx, path in enumerate(perms):\n",
    "    \n",
    "    CURR_FLOW = []\n",
    "    \n",
    "    curr_path_distance = Decimal(\"0.0\")\n",
    "#     tmp_distance = 0\n",
    "    \n",
    "    #all exists from main entrance area\n",
    "    source_valid = set(   [ e2 for (e1,e2) in solution_map[path[0] ]]    )\n",
    "    rolling_steps = [source_valid, ]\n",
    "    for i in range(1, len(path)):\n",
    "        r_source = path[i - 1]\n",
    "        r_target = path[i]\n",
    "        \n",
    "        if (r_source, r_target) in deadend:\n",
    "            curr_path_distance = my_inf\n",
    "            \n",
    "            break\n",
    "        \n",
    "        \n",
    "#         possible_sources = [ e2 for (e1,e2) in solution_map[r_source] ]\n",
    "        \n",
    "        \n",
    "        tmp_distance = find_best_connection_distance(r_source, r_target, solution_map)\n",
    "        source_valid = validate_connection(r_source, r_target, solution_map, source_valid)\n",
    "       \n",
    "        if len(source_valid) == 0:\n",
    "            print(f\"no VALID connection between {r_source} {r_target}, {i}th in path {pidx}\")\n",
    "            deadend.add((r_source, r_target))\n",
    "            break\n",
    "        \n",
    "        \n",
    "        rolling_steps.append(source_valid)\n",
    "        \n",
    "        curr_path_distance += tmp_distance\n",
    "        \n",
    "        if tmp_distance == my_inf:\n",
    "            print(f\"no connection between {r_source} {r_target}, {i}th in path {pidx}\")\n",
    "            deadend.add((r_source, r_target))\n",
    "            if i >= 7:\n",
    "                print(f\"{path}\")\n",
    "            \n",
    "            print(\"\\n\")\n",
    "            longest_path = max(longest_path, i)\n",
    "#             curr_path_distance = float(\"inf\")\n",
    "            break\n",
    "            \n",
    "#         else:\n",
    "\n",
    "        \n",
    "    \n",
    "    if  curr_path_distance != my_inf  and (i == len(path)-1):\n",
    "#     if  curr_path_distance != my_inf:\n",
    "        best_distance = min(best_distance, curr_path_distance)\n",
    "        if curr_path_distance == best_distance:\n",
    "            best_path = path\n",
    "            \n",
    "        best_solutions.append( list(path) )\n",
    "        rolling_solutions.append( list(rolling_steps ) )\n",
    "        \n",
    "#     if pidx == 3295:\n",
    "#         print( \"@@@\", i , len(path)-1  ,path, curr_path_distance )\n",
    "\n",
    "print(f\"best distance path: {best_distance}\")\n",
    "print(f\"longest reached: {longest_path}\")\n",
    "print(f\"scanned: {pidx}\")\n",
    "print(f\"best solutions: {len(best_solutions)}\")"
   ]
  },
  {
   "cell_type": "code",
   "execution_count": 10,
   "metadata": {},
   "outputs": [
    {
     "data": {
      "text/plain": [
       "[['MAIN_STREET',\n",
       "  'FRONTIER_LAND',\n",
       "  'STAR_WARS_GALAXY_EDGE',\n",
       "  'CRITTER_COUNTRY',\n",
       "  'NEW_ORLEANS_SQUARE',\n",
       "  'ADVENTURE_LAND',\n",
       "  'TOMORROW_LAND',\n",
       "  'FANTASY_LAND'],\n",
       " ['MAIN_STREET',\n",
       "  'FRONTIER_LAND',\n",
       "  'STAR_WARS_GALAXY_EDGE',\n",
       "  'CRITTER_COUNTRY',\n",
       "  'NEW_ORLEANS_SQUARE',\n",
       "  'ADVENTURE_LAND',\n",
       "  'FANTASY_LAND',\n",
       "  'TOMORROW_LAND']]"
      ]
     },
     "execution_count": 10,
     "metadata": {},
     "output_type": "execute_result"
    }
   ],
   "source": [
    "best_solutions"
   ]
  },
  {
   "cell_type": "code",
   "execution_count": 11,
   "metadata": {},
   "outputs": [
    {
     "data": {
      "text/plain": [
       "[{40918, 50720, 60282, 70282, 82766, 83634, 91073},\n",
       " {60568},\n",
       " {49078},\n",
       " {714, 43753, 61323},\n",
       " {19797, 72179},\n",
       " {61114},\n",
       " {8115, 23238, 46507, 58559},\n",
       " {30923, 46167}]"
      ]
     },
     "execution_count": 11,
     "metadata": {},
     "output_type": "execute_result"
    }
   ],
   "source": [
    "rolling_solutions[0]"
   ]
  },
  {
   "cell_type": "code",
   "execution_count": 21,
   "metadata": {},
   "outputs": [],
   "source": [
    "#try to go over all PERMS and run DFS at the same time\n",
    "\n",
    "def worm_search(curr_path_idx,  path, curr_ride_list, solutions_map, winners, distance_map):\n",
    "    \n",
    "    if curr_path_idx >= len(path):\n",
    "        \n",
    "        tot = calculate_path_distance(curr_ride_list,distance_map)\n",
    "#         print(f\"tot {tot}, curr_ride_list len {len(curr_ride_list)}\")\n",
    "        winners.append(  [tot, path, curr_ride_list]  )\n",
    "        return\n",
    "    \n",
    "    \n",
    "    #get list of (entrance, exist) nodes for current area\n",
    "    for (e1, e2) in solutions_map[ path[curr_path_idx] ]:\n",
    "        \n",
    "        #eliminate if previous node, \n",
    "        if distance_map.get( (curr_ride_list[-1], e1) ,-1) == -1:\n",
    "            continue\n",
    "        \n",
    "        \n",
    "        \n",
    "        worm_search(curr_path_idx+1,  path, curr_ride_list +solutions_map[ path[curr_path_idx] ][(e1,e2)]   , solutions_map, winners, distance_map)\n",
    "        \n",
    "        \n",
    "        \n",
    "\n",
    "winners = []\n",
    "for pidx, path in enumerate(perms):\n",
    "    #path = [tomorrowland, mainentrance ...]\n",
    "    \n",
    "    for (e1,e2) in solution_map[\"MAIN_STREET\"]:\n",
    "        worm_search(  0, path, solution_map[\"MAIN_STREET\"][(e1,e2)],solution_map,winners, distances )\n",
    "    \n",
    "    "
   ]
  },
  {
   "cell_type": "code",
   "execution_count": 34,
   "metadata": {},
   "outputs": [
    {
     "name": "stdout",
     "output_type": "stream",
     "text": [
      "3.205762744043298501090\n",
      "['MAIN_STREET', 'FRONTIER_LAND', 'STAR_WARS_GALAXY_EDGE', 'CRITTER_COUNTRY', 'NEW_ORLEANS_SQUARE', 'ADVENTURE_LAND', 'TOMORROW_LAND', 'FANTASY_LAND']\n",
      "3.506837344307342204090\n",
      "['MAIN_STREET', 'FRONTIER_LAND', 'STAR_WARS_GALAXY_EDGE', 'CRITTER_COUNTRY', 'NEW_ORLEANS_SQUARE', 'ADVENTURE_LAND', 'TOMORROW_LAND', 'FANTASY_LAND']\n",
      "1\n"
     ]
    }
   ],
   "source": [
    "print(winners[0][0])\n",
    "winners.sort(key=lambda x: x[0])\n",
    "# # distances\n",
    "print(winners[0][1])\n",
    "\n",
    "print(winners[-1][0])\n",
    "print(winners[-1][1])\n",
    "\n",
    "\n",
    "test = {  tuple(p[1])  for p in winners  }\n",
    "print(len(test))\n"
   ]
  },
  {
   "cell_type": "code",
   "execution_count": 35,
   "metadata": {},
   "outputs": [
    {
     "data": {
      "text/plain": [
       "{(60515, 39868): [60515, 64430, 99677, 40788, 1924, 27887, 73844, 39868],\n",
       " (60515, 73844): [60515, 64430, 99677, 40788, 1924, 27887, 39868, 73844],\n",
       " (60515, 99677): [60515, 64430, 1924, 39868, 73844, 27887, 40788, 99677],\n",
       " (60515, 40788): [60515, 64430, 27887, 73844, 39868, 1924, 99677, 40788],\n",
       " (60515, 64430): [60515, 99677, 40788, 27887, 73844, 39868, 1924, 64430],\n",
       " (60515, 27887): [60515, 64430, 99677, 40788, 1924, 39868, 73844, 27887],\n",
       " (60515, 1924): [60515, 64430, 99677, 40788, 27887, 73844, 39868, 1924],\n",
       " (1924, 39868): [1924, 64430, 60515, 99677, 40788, 27887, 73844, 39868],\n",
       " (1924, 73844): [1924, 64430, 60515, 99677, 40788, 27887, 39868, 73844],\n",
       " (1924, 99677): [1924, 39868, 73844, 27887, 40788, 64430, 60515, 99677],\n",
       " (1924, 40788): [1924, 39868, 73844, 27887, 64430, 60515, 99677, 40788],\n",
       " (1924, 64430): [1924, 39868, 73844, 27887, 40788, 99677, 60515, 64430],\n",
       " (1924, 60515): [1924, 39868, 73844, 27887, 40788, 99677, 64430, 60515],\n",
       " (64430, 99677): [64430, 60515, 1924, 39868, 73844, 27887, 40788, 99677],\n",
       " (64430, 40788): [64430, 60515, 99677, 1924, 39868, 73844, 27887, 40788],\n",
       " (64430, 39868): [64430, 60515, 99677, 40788, 1924, 27887, 73844, 39868],\n",
       " (64430, 73844): [64430, 60515, 99677, 40788, 1924, 27887, 39868, 73844],\n",
       " (64430, 27887): [64430, 60515, 99677, 40788, 1924, 39868, 73844, 27887],\n",
       " (64430, 1924): [64430, 60515, 99677, 40788, 27887, 73844, 39868, 1924],\n",
       " (64430, 60515): [64430, 1924, 39868, 73844, 27887, 40788, 99677, 60515],\n",
       " (27887, 39868): [27887, 40788, 99677, 60515, 64430, 1924, 73844, 39868],\n",
       " (27887, 73844): [27887, 40788, 99677, 60515, 64430, 1924, 39868, 73844],\n",
       " (27887, 99677): [27887, 73844, 39868, 1924, 64430, 60515, 40788, 99677],\n",
       " (27887, 40788): [27887, 73844, 39868, 1924, 64430, 60515, 99677, 40788],\n",
       " (27887, 64430): [27887, 73844, 39868, 1924, 40788, 99677, 60515, 64430],\n",
       " (27887, 60515): [27887, 73844, 39868, 1924, 40788, 99677, 64430, 60515],\n",
       " (73844, 39868): [73844, 27887, 40788, 99677, 60515, 64430, 1924, 39868],\n",
       " (73844, 99677): [73844, 39868, 27887, 1924, 64430, 60515, 40788, 99677],\n",
       " (73844, 40788): [73844, 39868, 27887, 1924, 64430, 60515, 99677, 40788],\n",
       " (73844, 64430): [73844, 39868, 27887, 1924, 40788, 99677, 60515, 64430],\n",
       " (73844, 60515): [73844, 39868, 27887, 1924, 40788, 99677, 64430, 60515],\n",
       " (73844, 27887): [73844, 39868, 1924, 64430, 60515, 99677, 40788, 27887],\n",
       " (73844, 1924): [73844, 39868, 27887, 40788, 99677, 60515, 64430, 1924],\n",
       " (40788, 39868): [40788, 99677, 60515, 64430, 1924, 27887, 73844, 39868],\n",
       " (40788, 73844): [40788, 99677, 60515, 64430, 1924, 27887, 39868, 73844],\n",
       " (40788, 99677): [40788, 27887, 73844, 39868, 1924, 64430, 60515, 99677],\n",
       " (40788, 64430): [40788, 27887, 73844, 39868, 1924, 99677, 60515, 64430],\n",
       " (40788, 27887): [40788, 99677, 60515, 64430, 1924, 39868, 73844, 27887],\n",
       " (40788, 1924): [40788, 99677, 60515, 64430, 27887, 73844, 39868, 1924],\n",
       " (40788, 60515): [40788, 99677, 1924, 39868, 73844, 27887, 64430, 60515],\n",
       " (39868, 99677): [39868, 73844, 27887, 1924, 64430, 60515, 40788, 99677],\n",
       " (39868, 40788): [39868, 73844, 27887, 1924, 64430, 60515, 99677, 40788],\n",
       " (39868, 27887): [39868, 73844, 1924, 64430, 60515, 99677, 40788, 27887],\n",
       " (39868, 64430): [39868, 73844, 27887, 1924, 40788, 99677, 60515, 64430],\n",
       " (39868, 60515): [39868, 73844, 27887, 1924, 40788, 99677, 64430, 60515],\n",
       " (39868, 1924): [39868, 73844, 27887, 40788, 99677, 60515, 64430, 1924],\n",
       " (39868, 73844): [39868, 1924, 64430, 60515, 99677, 40788, 27887, 73844],\n",
       " (99677, 39868): [99677, 40788, 60515, 64430, 1924, 27887, 73844, 39868],\n",
       " (99677, 73844): [99677, 40788, 60515, 64430, 1924, 27887, 39868, 73844],\n",
       " (99677, 40788): [99677, 60515, 64430, 1924, 39868, 73844, 27887, 40788],\n",
       " (99677, 64430): [99677, 40788, 27887, 73844, 39868, 1924, 60515, 64430],\n",
       " (99677, 27887): [99677, 40788, 60515, 64430, 1924, 39868, 73844, 27887],\n",
       " (99677, 1924): [99677, 60515, 64430, 40788, 27887, 73844, 39868, 1924],\n",
       " (99677, 60515): [99677, 40788, 27887, 73844, 39868, 1924, 64430, 60515]}"
      ]
     },
     "execution_count": 35,
     "metadata": {},
     "output_type": "execute_result"
    }
   ],
   "source": [
    "solution_map['TOON_TOWN']"
   ]
  },
  {
   "cell_type": "code",
   "execution_count": 14,
   "metadata": {},
   "outputs": [],
   "source": [
    "### use DFS to find all combinations\n",
    "\n",
    "all_possibilities = []\n",
    "\n",
    "#path:   main street, tomorrowland, fantasyland ....\n",
    "for pidx, path in enumerate(perms):\n",
    "    \n",
    "        path_possibilities = [  solution_map[path[0] ]  ]\n",
    "        \n",
    "        for i in range(1, len(path)):\n",
    "            r_source = path[i - 1]\n",
    "            r_target = path[i]\n",
    "            #source, target = main street, tomorrowland\n",
    "            \n",
    "            #is it a dead end?\n",
    "            ###\n",
    "            if not connection_exists(r_source, r_target, solution_map):\n",
    "                continue\n",
    "            \n",
    "            \n",
    "            \n",
    "            \n",
    "            #get connections:\n",
    "            #source = [  [entrance, store1 ], [entrance, store2]   ]\n",
    "            #target = [  [orbital, space mountain], [ buzz, nemo]   ]\n",
    "            \n",
    "            path_possibilities.append( solution_map[r_target] )\n",
    "        \n",
    "        \n",
    "        if len(path) == len(path_possibilities):\n",
    "            all_possibilities.append( path_possibilities  )\n",
    "        \n",
    "            \n",
    "\n",
    "\n",
    "\n",
    "\n",
    "\n"
   ]
  },
  {
   "cell_type": "code",
   "execution_count": 36,
   "metadata": {},
   "outputs": [],
   "source": [
    "# all_possibilities[0]\n",
    "# print(len(all_possibilities))\n",
    "# print(len(all_possibilities[0]))\n",
    "# print((all_possibilities[0]))"
   ]
  },
  {
   "cell_type": "code",
   "execution_count": 16,
   "metadata": {},
   "outputs": [],
   "source": [
    "#func\n",
    "\n",
    "def end_end_path_build(curr_path, curr_idx, path_perms ):\n",
    "    \n",
    "    if curr_idx >= len(curr_path):\n",
    "        return True\n",
    "    \n",
    "    \n",
    "\n",
    "#pick first index, check if "
   ]
  },
  {
   "cell_type": "code",
   "execution_count": 17,
   "metadata": {},
   "outputs": [
    {
     "ename": "SyntaxError",
     "evalue": "unexpected EOF while parsing (<ipython-input-17-1eeed2dce9e7>, line 3)",
     "output_type": "error",
     "traceback": [
      "\u001b[0;36m  File \u001b[0;32m\"<ipython-input-17-1eeed2dce9e7>\"\u001b[0;36m, line \u001b[0;32m3\u001b[0m\n\u001b[0;31m    \u001b[0m\n\u001b[0m    ^\u001b[0m\n\u001b[0;31mSyntaxError\u001b[0m\u001b[0;31m:\u001b[0m unexpected EOF while parsing\n"
     ]
    }
   ],
   "source": [
    "for posib in all_possibilities:\n",
    "    \n",
    "    "
   ]
  },
  {
   "cell_type": "code",
   "execution_count": null,
   "metadata": {},
   "outputs": [],
   "source": [
    "print(deadend)"
   ]
  },
  {
   "cell_type": "code",
   "execution_count": null,
   "metadata": {},
   "outputs": [],
   "source": [
    "print(len(best_solutions))\n",
    "print(best_path)"
   ]
  },
  {
   "cell_type": "code",
   "execution_count": 37,
   "metadata": {},
   "outputs": [
    {
     "name": "stdout",
     "output_type": "stream",
     "text": [
      "MAIN_STREET TOMORROW_LAND 0.11178482480398058 False\n",
      "FANTASY_LAND TOMORROW_LAND 0.08661118592832563 True\n",
      "FANTASY_LAND ADVENTURE_LAND 0.11867273923671834 True\n",
      "FRONTIER_LAND ADVENTURE_LAND 0.05174383191634434 True\n",
      "FRONTIER_LAND CRITTER_COUNTRY 0.09229982679104619 True\n",
      "NEW_ORLEANS_SQUARE CRITTER_COUNTRY 0.05021377438156316 False\n",
      "NEW_ORLEANS_SQUARE STAR_WARS_GALAXY_EDGE Infinity True\n",
      "FANTASY_LAND TOON_TOWN 0.07229029191445366 False\n"
     ]
    }
   ],
   "source": [
    "\n",
    "conns = (\n",
    "#     (\"CRITTER_COUNTRY\", \"NEW_ORLEANS_SQUARE\"),\n",
    "#     (\"ADVENTURE_LAND\", \"NEW_ORLEANS_SQUARE\"),\n",
    "#     (\"ADVENTURE_LAND\", \"FRONTIER_LAND\"),\n",
    "#      (\"NEW_ORLEANS_SQUARE\", \"FRONTIER_LAND\"),\n",
    "#      (\"NEW_ORLEANS_SQUARE\", \"ADVENTURE_LAND\"),\n",
    "#          (\"NEW_ORLEANS_SQUARE\", \"CRITTER_COUNTRY\"),\n",
    "#              (\"MAIN_STREET\", \"ADVENTURE_LAND\"),\n",
    "#     (\"ADVENTURE_LAND\", \"FRONTIER_LAND\"),\n",
    "#     (\"FRONTIER_LAND\", \"NEW_ORLEANS_SQUARE\"),\n",
    "#     (\"NEW_ORLEANS_SQUARE\",\"CRITTER_COUNTRY\",),\n",
    "#     (\"CRITTER_COUNTRY\", \"STAR_WARS_GALAXY_EDGE\"),\n",
    "#     ( \"STAR_WARS_GALAXY_EDGE\", \"FANTASY_LAND\"),\n",
    "#     (\"FANTASY_LAND\", \"TOMORROW_LAND\"),\n",
    "    \n",
    "#         (\"NEW_ORLEANS_SQUARE\", \"STAR_WARS_GALAXY_EDGE\"),\n",
    "#                  (\"MAIN_STREET\", \"NEW_ORLEANS_SQUARE\"),\n",
    "    \n",
    "    (\"MAIN_STREET\", \"TOMORROW_LAND\"),\n",
    "    (\"FANTASY_LAND\", \"TOMORROW_LAND\"),\n",
    "    (\"FANTASY_LAND\", \"ADVENTURE_LAND\"),\n",
    "    (\"FRONTIER_LAND\", \"ADVENTURE_LAND\"),\n",
    "    (\"FRONTIER_LAND\", \"CRITTER_COUNTRY\"),\n",
    "    (\"NEW_ORLEANS_SQUARE\", \"CRITTER_COUNTRY\"),\n",
    "    (\"NEW_ORLEANS_SQUARE\", \"STAR_WARS_GALAXY_EDGE\"),\n",
    "    (\"FANTASY_LAND\", \"TOON_TOWN\"),\n",
    "\n",
    "\n",
    "    \n",
    "    \n",
    "    \n",
    "\n",
    "\n",
    ")\n",
    "\n",
    "for r_source, r_target in conns:\n",
    "    tmp_distance = find_best_connection_distance(r_source, r_target, solution_map)\n",
    "    print(r_source, r_target,  tmp_distance, (r_source, r_target) in deadend )"
   ]
  },
  {
   "cell_type": "code",
   "execution_count": 57,
   "metadata": {},
   "outputs": [
    {
     "name": "stdout",
     "output_type": "stream",
     "text": [
      "0.07266552189434301 0.298337938230608910 0.07229029191445366\n",
      "0.07229029191445366 0.298337938230608910 0.07266552189434301\n"
     ]
    }
   ],
   "source": [
    "def find_best_toon_town_fantasy_link(solution_map, distances):\n",
    "    # check each end node from region1 against all start node from region2\n",
    "#     tmp_distance = Decimal(float(\"inf\"))\n",
    "    # get all solutions for source\n",
    "    best_combo = None\n",
    "#     resp_source, resp_target = None, None\n",
    "    resp = Decimal(\"inf\")\n",
    "#     for sol_source in solution_map[\"FANTASY_LAND\"]:\n",
    "    for  f1  in settings.FANTASY_LAND: \n",
    "        for sol_target in solution_map[\"TOON_TOWN\"]:\n",
    "#             s1, s2 = sol_source[0], sol_source[-1]\n",
    "#             t1, t2 = sol_target[0], sol_target[-1]\n",
    "            t1,t2 = sol_target[0], sol_target[-1]\n",
    "\n",
    "#             tmp_distance = min(distances.get((s1, t1), float(\"inf\")), tmp_distance)\n",
    "#             tmp_distance = min(distances.get((s1, t2), float(\"inf\")), tmp_distance)\n",
    "#             tmp_distance = min(distances.get((s2, t1), float(\"inf\")), tmp_distance)\n",
    "#             tmp_distance = min(distances.get((s2, t2), float(\"inf\")), tmp_distance)\n",
    "            tmp_distance1 = distances.get((f1, t1), Decimal(\"inf\"))\n",
    "                \n",
    "            if tmp_distance1 == Decimal(\"inf\"):\n",
    "                continue\n",
    "            \n",
    "            tmp_distance2 = calculate_path_distance( solution_map[\"TOON_TOWN\"][(t1,t2)]  ,distances )\n",
    "            buff = Decimal('inf')\n",
    "            f2_best = None\n",
    "            buff = Decimal('inf')\n",
    "            for f2 in  settings.FANTASY_LAND: \n",
    "#                 if f1 == f2:\n",
    "#                     continue\n",
    "                    \n",
    "                tmp = distances.get( (t2, f2) , Decimal(\"inf\"))\n",
    "                buff = min(buff, tmp)\n",
    "                if buff == tmp:\n",
    "                    f2_best = f2\n",
    "            \n",
    "            if buff != Decimal(\"inf\"):\n",
    "                print(tmp_distance1,tmp_distance2,buff)\n",
    "                \n",
    "            tmp_distance = tmp_distance1+tmp_distance2+buff\n",
    "            \n",
    "            resp = min(resp, tmp_distance)\n",
    "            \n",
    "            if resp == tmp_distance:\n",
    "                best_combo = (  f1, t1,t2,f2_best )\n",
    "\n",
    "    return (resp, best_combo)\n",
    "\n",
    "\n",
    "z = find_best_toon_town_fantasy_link(solution_map, distances)"
   ]
  },
  {
   "cell_type": "code",
   "execution_count": 58,
   "metadata": {},
   "outputs": [
    {
     "data": {
      "text/plain": [
       "(Decimal('0.443293752039405580'), (46167, 39868, 73844, 46167))"
      ]
     },
     "execution_count": 58,
     "metadata": {},
     "output_type": "execute_result"
    }
   ],
   "source": [
    "z"
   ]
  },
  {
   "cell_type": "code",
   "execution_count": null,
   "metadata": {},
   "outputs": [],
   "source": [
    "for key in solution_map['FANTASY_LAND']:\n",
    "    \n",
    "    k1, k2 = key\n",
    "    k1,k2 = ride_map[k1]['name'],ride_map[k2]['name']\n",
    "    \n",
    "    print(f\"{(k1,k2)}: {[   ride_map[e]['name']  for e in solution_map['FANTASY_LAND'][key]    ]}\\n\\n\")\n"
   ]
  },
  {
   "cell_type": "code",
   "execution_count": null,
   "metadata": {},
   "outputs": [],
   "source": [
    "for key in solution_map['ADVENTURE_LAND']:\n",
    "    \n",
    "    k1, k2 = key\n",
    "    k1,k2 = ride_map[k1]['name'],ride_map[k2]['name']\n",
    "    \n",
    "    print(f\"{(k1,k2)}: {[   ride_map[e]['name']  for e in solution_map['ADVENTURE_LAND'][key]    ]}\\n\\n\")"
   ]
  },
  {
   "cell_type": "code",
   "execution_count": null,
   "metadata": {},
   "outputs": [],
   "source": []
  }
 ],
 "metadata": {
  "kernelspec": {
   "display_name": "Python 3",
   "language": "python",
   "name": "python3"
  },
  "language_info": {
   "codemirror_mode": {
    "name": "ipython",
    "version": 3
   },
   "file_extension": ".py",
   "mimetype": "text/x-python",
   "name": "python",
   "nbconvert_exporter": "python",
   "pygments_lexer": "ipython3",
   "version": "3.7.6"
  }
 },
 "nbformat": 4,
 "nbformat_minor": 4
}
