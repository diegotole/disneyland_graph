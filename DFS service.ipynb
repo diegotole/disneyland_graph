{
 "cells": [
  {
   "cell_type": "code",
   "execution_count": 65,
   "metadata": {},
   "outputs": [],
   "source": [
    "from dfs_service import DFS, distance_obj,filter_dups,find_best_connection_distance,MySolutionMap\n",
    "from dfs_service import connection_exists,validate_connection, calculate_path_distance\n",
    "from itertools import permutations\n",
    "import settings\n",
    "import time\n",
    "from decimal import Decimal\n",
    "from utils import load_maps\n",
    "from collections import defaultdict"
   ]
  },
  {
   "cell_type": "code",
   "execution_count": 42,
   "metadata": {},
   "outputs": [],
   "source": [
    "distances = distance_obj()\n",
    "ride_map = load_maps()"
   ]
  },
  {
   "cell_type": "code",
   "execution_count": 93,
   "metadata": {},
   "outputs": [
    {
     "data": {
      "text/plain": [
       "\"gadget's go coaster\""
      ]
     },
     "execution_count": 93,
     "metadata": {},
     "output_type": "execute_result"
    }
   ],
   "source": [
    "ride_map[64430]['name']"
   ]
  },
  {
   "cell_type": "code",
   "execution_count": 3,
   "metadata": {},
   "outputs": [
    {
     "name": "stdout",
     "output_type": "stream",
     "text": [
      " permutations of all regions 362880\n",
      "\n"
     ]
    }
   ],
   "source": [
    " # nested loop,region to region connection\n",
    "all_regions_connections = permutations([region_name for region_list, region_name in settings.REGIONS_LIST])\n",
    "all_regions_connections = list(all_regions_connections)\n",
    "print(f\" permutations of all regions {len(list(all_regions_connections))}\\n\")"
   ]
  },
  {
   "cell_type": "code",
   "execution_count": 4,
   "metadata": {},
   "outputs": [],
   "source": [
    "# ride_map"
   ]
  },
  {
   "cell_type": "code",
   "execution_count": 10,
   "metadata": {},
   "outputs": [
    {
     "name": "stdout",
     "output_type": "stream",
     "text": [
      " STAR_WARS_GALAXY_EDGE region took 0.022483110427856445, total solutions 2 after filter 2\n",
      "\n",
      " TOON_TOWN region took 0.03964996337890625, total solutions 1728 after filter 54\n",
      "\n",
      " CRITTER_COUNTRY region took 0.0020139217376708984, total solutions 6 after filter 6\n",
      "\n",
      " NEW_ORLEANS_SQUARE region took 0.0019469261169433594, total solutions 4 after filter 4\n",
      "\n",
      " FRONTIER_LAND region took 0.0020258426666259766, total solutions 4 after filter 4\n",
      "\n",
      " ADVENTURE_LAND region took 0.0018661022186279297, total solutions 4 after filter 4\n",
      "\n",
      " MAIN_STREET region took 0.01116800308227539, total solutions 648 after filter 42\n",
      "\n",
      " TOMORROW_LAND region took 0.0054950714111328125, total solutions 72 after filter 24\n",
      "\n",
      "1000000\n",
      "2000000\n",
      "3000000\n",
      "4000000\n",
      "5000000\n",
      "6000000\n",
      "7000000\n",
      "8000000\n",
      "9000000\n",
      "10000000\n",
      " FANTASY_LAND region took 30.546197175979614, total solutions 237973 after filter 24\n",
      "\n",
      "1000000\n",
      "2000000\n",
      "3000000\n",
      "4000000\n",
      "5000000\n",
      "6000000\n",
      "7000000\n",
      "8000000\n",
      "9000000\n",
      "10000000\n",
      " FANTASY_TOON region took 34.10088515281677, total solutions 147456 after filter 9\n",
      "\n",
      " full searches took 64.73460078239441\n"
     ]
    }
   ],
   "source": [
    "solution_map = MySolutionMap()\n",
    "\n",
    "\n",
    "\n",
    "t0 = time.time()\n",
    "for region_list, region_name in (settings.REGIONS_LIST +     [(settings.FANTASY_LAND | settings.TOON_TOWN, \"FANTASY_TOON\")] ):\n",
    "    t1 = time.time()\n",
    "    d = DFS(region_list)\n",
    "    solutions = d.start()\n",
    "    filtered_solutions = filter_dups(solutions, distances)\n",
    "    # solution_map[region_name] = d.start()\n",
    "    solution_map[region_name] = filtered_solutions\n",
    "\n",
    "    print(\n",
    "        f\" {region_name} region took {time.time() - t1}, total solutions {len(solutions)} after filter {len(filtered_solutions)}\\n\")\n",
    "\n",
    "print(f\" full searches took {time.time() - t0}\")\n",
    "\n",
    "\n",
    "\n",
    "            "
   ]
  },
  {
   "cell_type": "code",
   "execution_count": 84,
   "metadata": {},
   "outputs": [
    {
     "name": "stdout",
     "output_type": "stream",
     "text": [
      "20 174\n"
     ]
    }
   ],
   "source": [
    "#making sure path exists backwards too\n",
    "ttt = 0\n",
    "ccc = 0\n",
    "\n",
    "for r in solution_map:\n",
    "    \n",
    "    tmp = {}\n",
    "    for k1,k2 in solution_map[r]:\n",
    "        \n",
    "        if (k2,k1) not in solution_map[r]:\n",
    "            ttt+=1\n",
    "#             solution_map[r][ (k2,k1)  ] = list(reversed(solution_map[r][( k1,k2)  ]))\n",
    "            tmp[ (k2,k1)  ] = list(reversed(solution_map[r][( k1,k2)  ]))\n",
    "    \n",
    "        ccc +=1\n",
    "    solution_map[r].update(tmp)\n",
    "        \n",
    "        \n",
    "        \n",
    "\n",
    "print(ttt, ccc)"
   ]
  },
  {
   "cell_type": "code",
   "execution_count": null,
   "metadata": {},
   "outputs": [],
   "source": [
    "solution_map[\"NEW_ORLEANS_SQUARE\"]"
   ]
  },
  {
   "cell_type": "code",
   "execution_count": 19,
   "metadata": {},
   "outputs": [
    {
     "name": "stdout",
     "output_type": "stream",
     "text": [
      "5040\n",
      "all region names ['STAR_WARS_GALAXY_EDGE', 'CRITTER_COUNTRY', 'NEW_ORLEANS_SQUARE', 'FRONTIER_LAND', 'ADVENTURE_LAND', 'TOMORROW_LAND', 'FANTASY_LAND']\n",
      "5040\n",
      "found 5040 region to region paths\n",
      "path contains 8 elements\n"
     ]
    }
   ],
   "source": [
    "# permutation of all region connects\n",
    "# we need to start in main street, so no reason to generate permutations where main street is not first\n",
    "perms = permutations([name for _, name in settings.REGIONS_LIST if name not in { settings.MAIN_STREET_NAME, settings.TOON_TOWN_NAME}])\n",
    "perms = list(perms)\n",
    "print(len(perms))\n",
    "print(f\"all region names {[name for _, name in settings.REGIONS_LIST if name not in { settings.MAIN_STREET_NAME, settings.TOON_TOWN_NAME}]}\")\n",
    "perms = [[settings.MAIN_STREET_NAME] + list(p) for p in perms]\n",
    "print(len(perms))\n",
    "\n",
    "print(f\"found {len(perms)} region to region paths\")\n",
    "print(f\"path contains {len(perms[0]) } elements\")"
   ]
  },
  {
   "cell_type": "code",
   "execution_count": 18,
   "metadata": {},
   "outputs": [
    {
     "name": "stdout",
     "output_type": "stream",
     "text": [
      "5040\n"
     ]
    }
   ],
   "source": [
    "perms2 = [name for _, name in settings.REGIONS_LIST if name not in { settings.MAIN_STREET_NAME, settings.TOON_TOWN_NAME, settings.FANTASY_LAND_NAME}]\n",
    "\n",
    "perms2.append(\"FANTASY_TOON\")\n",
    "\n",
    "perms2 = permutations(perms2)\n",
    "\n",
    "perms2 = [[settings.MAIN_STREET_NAME] + list(p) for p in perms2]\n",
    "\n",
    "print(len(perms2))\n",
    "\n"
   ]
  },
  {
   "cell_type": "code",
   "execution_count": 58,
   "metadata": {},
   "outputs": [],
   "source": [
    "# for p in perms2:\n",
    "#     if p.index(\"MAIN_STREET\") != 0:\n",
    "#         print(p)"
   ]
  },
  {
   "cell_type": "code",
   "execution_count": null,
   "metadata": {},
   "outputs": [],
   "source": [
    "\n",
    "# print(settings.REGIONS_LIST)\n",
    "\n",
    "magic = ['MAIN_STREET', 'ADVENTURE_LAND', \"FRONTIER_LAND\", \"NEW_ORLEANS_SQUARE\", \"CRITTER_COUNTRY\", \"STAR_WARS_GALAXY_EDGE\", \"FANTASY_LAND\"]\n",
    "for idx, p in enumerate(perms):\n",
    "    \n",
    "    \n",
    "    if (magic[0] == p[0]) and (magic[1] == p[1]) and (magic[2] == p[2]) and (magic[3] == p[3]):\n",
    "        if (magic[4] == p[4]) and (magic[5] == p[5]) and (magic[6] == p[6]):\n",
    "            print(p, idx)\n",
    "        \n",
    "        \n",
    "        \n",
    "    "
   ]
  },
  {
   "cell_type": "code",
   "execution_count": null,
   "metadata": {},
   "outputs": [],
   "source": [
    "\n",
    "    "
   ]
  },
  {
   "cell_type": "code",
   "execution_count": null,
   "metadata": {},
   "outputs": [],
   "source": [
    "# starting in main street,\n",
    "# inside each solution for source region,check exit node\n",
    "# check if exit node has connection with entry node from next region\n",
    "# if none found, exit path\n",
    "\n",
    "best_distance = float(\"inf\")\n",
    "my_inf = Decimal(float(\"inf\"))\n",
    "deadend = set()\n",
    "longest_path = float(\"-inf\")\n",
    "# print(len(perms))\n",
    "# print(perms[0])\n",
    "best_solutions = []\n",
    "\n",
    "FLOW_SOLUTION = []\n",
    "rolling_solutions = []\n",
    "\n",
    "for pidx, path in enumerate(perms):\n",
    "    \n",
    "    CURR_FLOW = []\n",
    "    \n",
    "    curr_path_distance = Decimal(\"0.0\")\n",
    "#     tmp_distance = 0\n",
    "    \n",
    "    #all exists from main entrance area\n",
    "    source_valid = set(   [ e2 for (e1,e2) in solution_map[path[0] ]]    )\n",
    "    rolling_steps = [source_valid, ]\n",
    "    for i in range(1, len(path)):\n",
    "        r_source = path[i - 1]\n",
    "        r_target = path[i]\n",
    "        \n",
    "        if (r_source, r_target) in deadend:\n",
    "            curr_path_distance = my_inf\n",
    "            \n",
    "            break\n",
    "        \n",
    "        \n",
    "#         possible_sources = [ e2 for (e1,e2) in solution_map[r_source] ]\n",
    "        \n",
    "        \n",
    "        tmp_distance = find_best_connection_distance(r_source, r_target, solution_map)\n",
    "        source_valid = validate_connection(r_source, r_target, solution_map, source_valid)\n",
    "       \n",
    "        if len(source_valid) == 0:\n",
    "            print(f\"no VALID connection between {r_source} {r_target}, {i}th in path {pidx}\")\n",
    "            deadend.add((r_source, r_target))\n",
    "            break\n",
    "        \n",
    "        \n",
    "        rolling_steps.append(source_valid)\n",
    "        \n",
    "        curr_path_distance += tmp_distance\n",
    "        \n",
    "        if tmp_distance == my_inf:\n",
    "            print(f\"no connection between {r_source} {r_target}, {i}th in path {pidx}\")\n",
    "            deadend.add((r_source, r_target))\n",
    "            if i >= 7:\n",
    "                print(f\"{path}\")\n",
    "            \n",
    "            print(\"\\n\")\n",
    "            longest_path = max(longest_path, i)\n",
    "#             curr_path_distance = float(\"inf\")\n",
    "            break\n",
    "            \n",
    "#         else:\n",
    "\n",
    "        \n",
    "    \n",
    "    if  curr_path_distance != my_inf  and (i == len(path)-1):\n",
    "#     if  curr_path_distance != my_inf:\n",
    "        best_distance = min(best_distance, curr_path_distance)\n",
    "        if curr_path_distance == best_distance:\n",
    "            best_path = path\n",
    "            \n",
    "        best_solutions.append( list(path) )\n",
    "        rolling_solutions.append( list(rolling_steps ) )\n",
    "        \n",
    "#     if pidx == 3295:\n",
    "#         print( \"@@@\", i , len(path)-1  ,path, curr_path_distance )\n",
    "\n",
    "print(f\"best distance path: {best_distance}\")\n",
    "print(f\"longest reached: {longest_path}\")\n",
    "print(f\"scanned: {pidx}\")\n",
    "print(f\"best solutions: {len(best_solutions)}\")"
   ]
  },
  {
   "cell_type": "code",
   "execution_count": null,
   "metadata": {},
   "outputs": [],
   "source": [
    "best_solutions"
   ]
  },
  {
   "cell_type": "code",
   "execution_count": null,
   "metadata": {},
   "outputs": [],
   "source": [
    "rolling_solutions[0]"
   ]
  },
  {
   "cell_type": "code",
   "execution_count": 85,
   "metadata": {},
   "outputs": [],
   "source": [
    "#try to go over all PERMS and run DFS at the same time\n",
    "bad_jumps = set([])\n",
    "best_tries = defaultdict(list)\n",
    "\n",
    "def worm_search(curr_path_idx,  path, curr_ride_list, solutions_map, winners, distance_map):\n",
    "    \n",
    "    if curr_path_idx >= len(path):\n",
    "        \n",
    "        tot = calculate_path_distance(curr_ride_list,distance_map)\n",
    "#         print(f\"tot {tot}, curr_ride_list len {len(curr_ride_list)}\")\n",
    "        winners.append(  [tot, path, curr_ride_list]  )\n",
    "        return\n",
    "    \n",
    "    \n",
    "    #get list of (entrance, exist) nodes for current area\n",
    "    for (e1, e2) in solutions_map[ path[curr_path_idx] ]:\n",
    "        \n",
    "        #eliminate if previous node,\n",
    "        k1,k2 = e1,e2\n",
    "        \n",
    "        if distance_map.get( (curr_ride_list[-1], e1) ,-1) == -1:\n",
    "            if  distance_map.get( (curr_ride_list[-1], e2) ,-1) == -1:\n",
    "                bad_jumps.add( (path[curr_path_idx-1]  , path[curr_path_idx] , curr_ride_list[-1], e1,e2 )   )\n",
    "                \n",
    "                best_tries[curr_path_idx].append(  path )\n",
    "                \n",
    "                ###\n",
    "                if e1 in {70528, 60282}  and e2 in {70528, 60282}:\n",
    "                    print(\"WTF\")\n",
    "                \n",
    "                ###\n",
    "                continue\n",
    "            \n",
    "            else:\n",
    "                k2,k1 = e1,e2\n",
    "        \n",
    "        \n",
    "        \n",
    "        worm_search(curr_path_idx+1,  path, curr_ride_list +solutions_map[ path[curr_path_idx] ][(k1,k2)]   , solutions_map, winners, distance_map)\n",
    "        \n",
    "        \n",
    "        \n",
    "\n",
    "winners = []\n",
    "for pidx, path in enumerate(perms2):\n",
    "    #path = [tomorrowland, mainentrance ...]\n",
    "    \n",
    "    for (e1,e2) in solution_map[\"MAIN_STREET\"]:\n",
    "        worm_search(  1, path, solution_map[\"MAIN_STREET\"][(e1,e2)],solution_map,winners, distances )\n",
    "\n",
    "\n",
    "# print(bad_jumps)\n",
    "    "
   ]
  },
  {
   "cell_type": "code",
   "execution_count": 88,
   "metadata": {},
   "outputs": [
    {
     "name": "stdout",
     "output_type": "stream",
     "text": [
      "1\n",
      "6\n",
      "7\n",
      "['MAIN_STREET', 'FRONTIER_LAND', 'STAR_WARS_GALAXY_EDGE', 'CRITTER_COUNTRY', 'NEW_ORLEANS_SQUARE', 'ADVENTURE_LAND', 'TOMORROW_LAND', 'FANTASY_TOON']\n",
      "['MAIN_STREET', 'FRONTIER_LAND', 'STAR_WARS_GALAXY_EDGE', 'CRITTER_COUNTRY', 'NEW_ORLEANS_SQUARE', 'ADVENTURE_LAND', 'FANTASY_TOON', 'TOMORROW_LAND']\n",
      "4\n",
      "5\n",
      "3\n",
      "2\n"
     ]
    }
   ],
   "source": [
    "best_tries_printed = set()\n",
    "for k in best_tries:\n",
    "    print(k)\n",
    "    if k >=7:\n",
    "        for p in best_tries[k]:\n",
    "            tt = tuple(p)\n",
    "            if tt in best_tries_printed:\n",
    "                continue\n",
    "                \n",
    "            best_tries_printed.add( tt )\n",
    "            print(p)"
   ]
  },
  {
   "cell_type": "code",
   "execution_count": 94,
   "metadata": {},
   "outputs": [
    {
     "name": "stdout",
     "output_type": "stream",
     "text": [
      "['TOMORROW_LAND', 'FANTASY_TOON', 'autopia', 'sleeping beauty castle walkthrough', 'rail road mickey town']\n",
      "['TOMORROW_LAND', 'FANTASY_TOON', 'autopia', 'sleeping beauty castle walkthrough', \"gadget's go coaster\"]\n",
      "['TOMORROW_LAND', 'FANTASY_TOON', 'autopia', 'sleeping beauty castle walkthrough', \"goofy's playhouse\"]\n",
      "['TOMORROW_LAND', 'FANTASY_TOON', 'autopia', 'rail road mickey town', 'sleeping beauty castle walkthrough']\n",
      "['TOMORROW_LAND', 'FANTASY_TOON', 'autopia', \"donald's boat\", 'sleeping beauty castle walkthrough']\n",
      "['TOMORROW_LAND', 'FANTASY_TOON', 'finding nemo submarine voyage', 'rail road mickey town', 'sleeping beauty castle walkthrough']\n",
      "['TOMORROW_LAND', 'FANTASY_TOON', 'monorail', \"mickey's house and meet mickey\", 'sleeping beauty castle walkthrough']\n",
      "['TOMORROW_LAND', 'FANTASY_TOON', 'rail road - tomorrow land', 'sleeping beauty castle walkthrough', \"minnie's house\"]\n",
      "['TOMORROW_LAND', 'FANTASY_TOON', 'autopia', \"chip 'n dale treehouse\", 'sleeping beauty castle walkthrough']\n",
      "['TOMORROW_LAND', 'FANTASY_TOON', 'autopia', \"goofy's playhouse\", 'sleeping beauty castle walkthrough']\n",
      "['TOMORROW_LAND', 'FANTASY_TOON', 'monorail', 'sleeping beauty castle walkthrough', 'its a small world holiday']\n",
      "['TOMORROW_LAND', 'FANTASY_TOON', 'finding nemo submarine voyage', 'sleeping beauty castle walkthrough', \"donald's boat\"]\n",
      "['TOMORROW_LAND', 'FANTASY_TOON', 'finding nemo submarine voyage', \"gadget's go coaster\", 'sleeping beauty castle walkthrough']\n",
      "['TOMORROW_LAND', 'FANTASY_TOON', 'finding nemo submarine voyage', 'sleeping beauty castle walkthrough', \"roger rabbit's car toon spin\"]\n",
      "['TOMORROW_LAND', 'FANTASY_TOON', 'autopia', 'sleeping beauty castle walkthrough', 'its a small world holiday']\n",
      "['TOMORROW_LAND', 'FANTASY_TOON', 'rail road - tomorrow land', 'sleeping beauty castle walkthrough', \"chip 'n dale treehouse\"]\n",
      "['TOMORROW_LAND', 'FANTASY_TOON', 'finding nemo submarine voyage', \"goofy's playhouse\", 'sleeping beauty castle walkthrough']\n",
      "['TOMORROW_LAND', 'FANTASY_TOON', 'finding nemo submarine voyage', \"roger rabbit's car toon spin\", 'sleeping beauty castle walkthrough']\n",
      "['TOMORROW_LAND', 'FANTASY_TOON', 'finding nemo submarine voyage', 'sleeping beauty castle walkthrough', \"mickey's house and meet mickey\"]\n",
      "['TOMORROW_LAND', 'FANTASY_TOON', 'rail road - tomorrow land', \"minnie's house\", 'sleeping beauty castle walkthrough']\n",
      "['TOMORROW_LAND', 'FANTASY_TOON', 'rail road - tomorrow land', \"chip 'n dale treehouse\", 'sleeping beauty castle walkthrough']\n",
      "['TOMORROW_LAND', 'FANTASY_TOON', 'finding nemo submarine voyage', \"donald's boat\", 'sleeping beauty castle walkthrough']\n",
      "['TOMORROW_LAND', 'FANTASY_TOON', 'rail road - tomorrow land', 'rail road mickey town', 'sleeping beauty castle walkthrough']\n",
      "['TOMORROW_LAND', 'FANTASY_TOON', 'rail road - tomorrow land', 'sleeping beauty castle walkthrough', \"mickey's house and meet mickey\"]\n",
      "['TOMORROW_LAND', 'FANTASY_TOON', 'monorail', \"minnie's house\", 'sleeping beauty castle walkthrough']\n",
      "['TOMORROW_LAND', 'FANTASY_TOON', 'monorail', \"chip 'n dale treehouse\", 'sleeping beauty castle walkthrough']\n",
      "['TOMORROW_LAND', 'FANTASY_TOON', 'autopia', 'sleeping beauty castle walkthrough', \"mickey's house and meet mickey\"]\n",
      "['TOMORROW_LAND', 'FANTASY_TOON', 'finding nemo submarine voyage', 'sleeping beauty castle walkthrough', \"minnie's house\"]\n",
      "['TOMORROW_LAND', 'FANTASY_TOON', 'monorail', \"roger rabbit's car toon spin\", 'sleeping beauty castle walkthrough']\n",
      "['TOMORROW_LAND', 'FANTASY_TOON', 'autopia', 'sleeping beauty castle walkthrough', \"donald's boat\"]\n",
      "['TOMORROW_LAND', 'FANTASY_TOON', 'finding nemo submarine voyage', 'sleeping beauty castle walkthrough', \"chip 'n dale treehouse\"]\n",
      "['TOMORROW_LAND', 'FANTASY_TOON', 'monorail', 'sleeping beauty castle walkthrough', \"chip 'n dale treehouse\"]\n",
      "['TOMORROW_LAND', 'FANTASY_TOON', 'rail road - tomorrow land', \"roger rabbit's car toon spin\", 'sleeping beauty castle walkthrough']\n",
      "['TOMORROW_LAND', 'FANTASY_TOON', 'rail road - tomorrow land', 'sleeping beauty castle walkthrough', 'its a small world holiday']\n",
      "['TOMORROW_LAND', 'FANTASY_TOON', 'autopia', \"mickey's house and meet mickey\", 'sleeping beauty castle walkthrough']\n",
      "['TOMORROW_LAND', 'FANTASY_TOON', 'rail road - tomorrow land', 'sleeping beauty castle walkthrough', \"goofy's playhouse\"]\n",
      "['TOMORROW_LAND', 'FANTASY_TOON', 'monorail', 'sleeping beauty castle walkthrough', \"minnie's house\"]\n",
      "['TOMORROW_LAND', 'FANTASY_TOON', 'rail road - tomorrow land', \"mickey's house and meet mickey\", 'sleeping beauty castle walkthrough']\n",
      "['TOMORROW_LAND', 'FANTASY_TOON', 'autopia', \"minnie's house\", 'sleeping beauty castle walkthrough']\n",
      "['TOMORROW_LAND', 'FANTASY_TOON', 'monorail', 'rail road mickey town', 'sleeping beauty castle walkthrough']\n",
      "['TOMORROW_LAND', 'FANTASY_TOON', 'monorail', 'its a small world holiday', 'sleeping beauty castle walkthrough']\n",
      "['TOMORROW_LAND', 'FANTASY_TOON', 'autopia', \"gadget's go coaster\", 'sleeping beauty castle walkthrough']\n",
      "['TOMORROW_LAND', 'FANTASY_TOON', 'monorail', 'sleeping beauty castle walkthrough', 'rail road mickey town']\n",
      "['TOMORROW_LAND', 'FANTASY_TOON', 'finding nemo submarine voyage', 'sleeping beauty castle walkthrough', \"gadget's go coaster\"]\n",
      "['TOMORROW_LAND', 'FANTASY_TOON', 'rail road - tomorrow land', 'sleeping beauty castle walkthrough', \"donald's boat\"]\n",
      "['TOMORROW_LAND', 'FANTASY_TOON', 'monorail', 'sleeping beauty castle walkthrough', \"roger rabbit's car toon spin\"]\n",
      "['TOMORROW_LAND', 'FANTASY_TOON', 'rail road - tomorrow land', 'its a small world holiday', 'sleeping beauty castle walkthrough']\n",
      "['TOMORROW_LAND', 'FANTASY_TOON', 'finding nemo submarine voyage', \"mickey's house and meet mickey\", 'sleeping beauty castle walkthrough']\n",
      "['TOMORROW_LAND', 'FANTASY_TOON', 'autopia', 'sleeping beauty castle walkthrough', \"chip 'n dale treehouse\"]\n",
      "['TOMORROW_LAND', 'FANTASY_TOON', 'autopia', 'its a small world holiday', 'sleeping beauty castle walkthrough']\n",
      "['TOMORROW_LAND', 'FANTASY_TOON', 'monorail', 'sleeping beauty castle walkthrough', \"goofy's playhouse\"]\n",
      "['TOMORROW_LAND', 'FANTASY_TOON', 'rail road - tomorrow land', \"goofy's playhouse\", 'sleeping beauty castle walkthrough']\n",
      "['TOMORROW_LAND', 'FANTASY_TOON', 'finding nemo submarine voyage', 'sleeping beauty castle walkthrough', 'its a small world holiday']\n",
      "['TOMORROW_LAND', 'FANTASY_TOON', 'monorail', 'sleeping beauty castle walkthrough', \"gadget's go coaster\"]\n",
      "['TOMORROW_LAND', 'FANTASY_TOON', 'autopia', 'sleeping beauty castle walkthrough', \"minnie's house\"]\n",
      "['TOMORROW_LAND', 'FANTASY_TOON', 'monorail', \"goofy's playhouse\", 'sleeping beauty castle walkthrough']\n",
      "['TOMORROW_LAND', 'FANTASY_TOON', 'monorail', \"gadget's go coaster\", 'sleeping beauty castle walkthrough']\n",
      "['TOMORROW_LAND', 'FANTASY_TOON', 'finding nemo submarine voyage', 'sleeping beauty castle walkthrough', \"goofy's playhouse\"]\n",
      "['TOMORROW_LAND', 'FANTASY_TOON', 'rail road - tomorrow land', \"donald's boat\", 'sleeping beauty castle walkthrough']\n",
      "['TOMORROW_LAND', 'FANTASY_TOON', 'finding nemo submarine voyage', \"chip 'n dale treehouse\", 'sleeping beauty castle walkthrough']\n",
      "['TOMORROW_LAND', 'FANTASY_TOON', 'rail road - tomorrow land', 'sleeping beauty castle walkthrough', \"roger rabbit's car toon spin\"]\n",
      "['TOMORROW_LAND', 'FANTASY_TOON', 'rail road - tomorrow land', \"gadget's go coaster\", 'sleeping beauty castle walkthrough']\n",
      "['TOMORROW_LAND', 'FANTASY_TOON', 'autopia', \"roger rabbit's car toon spin\", 'sleeping beauty castle walkthrough']\n",
      "['TOMORROW_LAND', 'FANTASY_TOON', 'autopia', 'sleeping beauty castle walkthrough', \"roger rabbit's car toon spin\"]\n",
      "['TOMORROW_LAND', 'FANTASY_TOON', 'finding nemo submarine voyage', \"minnie's house\", 'sleeping beauty castle walkthrough']\n",
      "['TOMORROW_LAND', 'FANTASY_TOON', 'finding nemo submarine voyage', 'its a small world holiday', 'sleeping beauty castle walkthrough']\n",
      "['TOMORROW_LAND', 'FANTASY_TOON', 'monorail', \"donald's boat\", 'sleeping beauty castle walkthrough']\n",
      "['TOMORROW_LAND', 'FANTASY_TOON', 'monorail', 'sleeping beauty castle walkthrough', \"mickey's house and meet mickey\"]\n",
      "['TOMORROW_LAND', 'FANTASY_TOON', 'rail road - tomorrow land', 'sleeping beauty castle walkthrough', \"gadget's go coaster\"]\n",
      "['TOMORROW_LAND', 'FANTASY_TOON', 'monorail', 'sleeping beauty castle walkthrough', \"donald's boat\"]\n",
      "['TOMORROW_LAND', 'FANTASY_TOON', 'finding nemo submarine voyage', 'sleeping beauty castle walkthrough', 'rail road mickey town']\n",
      "['TOMORROW_LAND', 'FANTASY_TOON', 'rail road - tomorrow land', 'sleeping beauty castle walkthrough', 'rail road mickey town']\n"
     ]
    }
   ],
   "source": [
    "\n",
    "\n",
    "\n",
    "for p in bad_jumps:\n",
    "    if \"FANTASY_TOON\" == p[1]  and \"TOMORROW_LAND\" in p:\n",
    "        #astro\n",
    "        if 44978 in p:\n",
    "            ## ride_map[64430]['name']\n",
    "            print(\"$$$\", [ride_map[xx]['name'] if xx in ride_map else xx  for xx in p ])\n",
    "            \n",
    "        else:\n",
    "#             print(p)\n",
    "            print([ride_map[xx]['name'] if xx in ride_map else xx  for xx in p ])\n",
    "\n",
    "\n",
    "\n",
    "# should work:\n",
    "# ('FRONTIER_LAND', 'FANTASY_TOON')\n",
    "#('FANTASY_TOON', 'ADVENTURE_LAND')\n",
    "#('STAR_WARS_GALAXY_EDGE', 'FANTASY_TOON')\n",
    "#('FANTASY_TOON', 'MAIN_STREET')\n",
    "#('FANTASY_TOON', 'TOMORROW_LAND')\n"
   ]
  },
  {
   "cell_type": "code",
   "execution_count": 90,
   "metadata": {},
   "outputs": [
    {
     "name": "stdout",
     "output_type": "stream",
     "text": [
      "(70528, 39868)\n",
      "(70528, 99677)\n",
      "(70528, 40788)\n",
      "(70528, 64430)\n",
      "(70528, 60515)\n",
      "(70528, 27887)\n",
      "(70528, 1924)\n",
      "(70528, 73844)\n",
      "(70528, 30923)\n",
      "(39868, 70528)\n",
      "(99677, 70528)\n",
      "(40788, 70528)\n",
      "(64430, 70528)\n",
      "(60515, 70528)\n",
      "(27887, 70528)\n",
      "(1924, 70528)\n",
      "(73844, 70528)\n",
      "(30923, 70528)\n"
     ]
    }
   ],
   "source": [
    "#70528 sleeping beauty castle\n",
    "#39868 roger rabbit\n",
    "#99677 mickey house\n",
    "#40788 minnie\n",
    "#64430 gadget coaster\n",
    "#60515 chip and dale tree house\n",
    "#27887 donald boat\n",
    "#1924 goofy house\n",
    "#73844 rail road mickey town ****\n",
    "#30923 small world\n",
    "\n",
    "for k in solution_map[\"FANTASY_TOON\"]:\n",
    "    print(k)"
   ]
  },
  {
   "cell_type": "code",
   "execution_count": 70,
   "metadata": {},
   "outputs": [
    {
     "name": "stdout",
     "output_type": "stream",
     "text": [
      "(50720, 60282)\n",
      "(50720, 40918)\n",
      "(50720, 83634)\n",
      "(50720, 82766)\n",
      "(50720, 70282)\n",
      "(50720, 91073)\n",
      "(91073, 60282)\n",
      "(91073, 40918)\n",
      "(91073, 83634)\n",
      "(91073, 82766)\n",
      "(91073, 70282)\n",
      "(91073, 50720)\n",
      "(70282, 60282)\n",
      "(70282, 40918)\n",
      "(70282, 83634)\n",
      "(70282, 91073)\n",
      "(70282, 82766)\n",
      "(70282, 50720)\n",
      "(82766, 60282)\n",
      "(82766, 40918)\n",
      "(82766, 83634)\n",
      "(82766, 91073)\n",
      "(82766, 70282)\n",
      "(82766, 50720)\n",
      "(83634, 60282)\n",
      "(83634, 82766)\n",
      "(83634, 40918)\n",
      "(83634, 70282)\n",
      "(83634, 91073)\n",
      "(83634, 50720)\n",
      "(40918, 60282)\n",
      "(40918, 82766)\n",
      "(40918, 83634)\n",
      "(40918, 70282)\n",
      "(40918, 91073)\n",
      "(40918, 50720)\n",
      "(60282, 40918)\n",
      "(60282, 83634)\n",
      "(60282, 91073)\n",
      "(60282, 82766)\n",
      "(60282, 50720)\n",
      "(60282, 70282)\n"
     ]
    }
   ],
   "source": [
    "#50720 disney gallery\n",
    "#91073 rail road entrance\n",
    "#70282 main street vehicles\n",
    "#82766 lincoln\n",
    "#83634 pumpkin\n",
    "#40918 cinema\n",
    "#60282 fortune teller mainstreet\n",
    "\n",
    "\n",
    "\n",
    "myset= set()\n",
    "for k in solution_map[\"MAIN_STREET\"]:\n",
    "    print(k)\n",
    "\n",
    "# print(myset)"
   ]
  },
  {
   "cell_type": "code",
   "execution_count": 91,
   "metadata": {},
   "outputs": [
    {
     "name": "stdout",
     "output_type": "stream",
     "text": [
      "{68863, 23238, 46507, 44978, 8115, 45812, 58559}\n"
     ]
    }
   ],
   "source": [
    "#68863 buzz\n",
    "#23238 nemo\n",
    "#46507 autopia\n",
    "#44978   astro orbitor\n",
    "#8115  monorail\n",
    "#45812 space mountain\n",
    "#58559 rail road tomorrow\n",
    "\n",
    "\n",
    "\n",
    "\n",
    "myset= set()\n",
    "for k in solution_map[\"TOMORROW_LAND\"]:\n",
    "    myset.add(k[0])\n",
    "    myset.add(k[1])\n",
    "\n",
    "print(myset)"
   ]
  },
  {
   "cell_type": "code",
   "execution_count": 64,
   "metadata": {},
   "outputs": [
    {
     "name": "stdout",
     "output_type": "stream",
     "text": [
      "0\n"
     ]
    },
    {
     "ename": "IndexError",
     "evalue": "list index out of range",
     "output_type": "error",
     "traceback": [
      "\u001b[0;31m---------------------------------------------------------------------------\u001b[0m",
      "\u001b[0;31mIndexError\u001b[0m                                Traceback (most recent call last)",
      "\u001b[0;32m<ipython-input-64-47b28d322d6f>\u001b[0m in \u001b[0;36m<module>\u001b[0;34m\u001b[0m\n\u001b[1;32m      1\u001b[0m \u001b[0mprint\u001b[0m\u001b[0;34m(\u001b[0m\u001b[0mlen\u001b[0m\u001b[0;34m(\u001b[0m\u001b[0mwinners\u001b[0m\u001b[0;34m)\u001b[0m\u001b[0;34m)\u001b[0m\u001b[0;34m\u001b[0m\u001b[0;34m\u001b[0m\u001b[0m\n\u001b[0;32m----> 2\u001b[0;31m \u001b[0mprint\u001b[0m\u001b[0;34m(\u001b[0m\u001b[0mwinners\u001b[0m\u001b[0;34m[\u001b[0m\u001b[0;36m0\u001b[0m\u001b[0;34m]\u001b[0m\u001b[0;34m[\u001b[0m\u001b[0;36m0\u001b[0m\u001b[0;34m]\u001b[0m\u001b[0;34m)\u001b[0m\u001b[0;34m\u001b[0m\u001b[0;34m\u001b[0m\u001b[0m\n\u001b[0m\u001b[1;32m      3\u001b[0m \u001b[0mwinners\u001b[0m\u001b[0;34m.\u001b[0m\u001b[0msort\u001b[0m\u001b[0;34m(\u001b[0m\u001b[0mkey\u001b[0m\u001b[0;34m=\u001b[0m\u001b[0;32mlambda\u001b[0m \u001b[0mx\u001b[0m\u001b[0;34m:\u001b[0m \u001b[0mx\u001b[0m\u001b[0;34m[\u001b[0m\u001b[0;36m0\u001b[0m\u001b[0;34m]\u001b[0m\u001b[0;34m)\u001b[0m\u001b[0;34m\u001b[0m\u001b[0;34m\u001b[0m\u001b[0m\n\u001b[1;32m      4\u001b[0m \u001b[0;31m# # distances\u001b[0m\u001b[0;34m\u001b[0m\u001b[0;34m\u001b[0m\u001b[0;34m\u001b[0m\u001b[0m\n\u001b[1;32m      5\u001b[0m \u001b[0mprint\u001b[0m\u001b[0;34m(\u001b[0m\u001b[0mwinners\u001b[0m\u001b[0;34m[\u001b[0m\u001b[0;36m0\u001b[0m\u001b[0;34m]\u001b[0m\u001b[0;34m[\u001b[0m\u001b[0;36m1\u001b[0m\u001b[0;34m]\u001b[0m\u001b[0;34m)\u001b[0m\u001b[0;34m\u001b[0m\u001b[0;34m\u001b[0m\u001b[0m\n",
      "\u001b[0;31mIndexError\u001b[0m: list index out of range"
     ]
    }
   ],
   "source": [
    "print(len(winners))\n",
    "print(winners[0][0])\n",
    "winners.sort(key=lambda x: x[0])\n",
    "# # distances\n",
    "print(winners[0][1])\n",
    "\n",
    "print(winners[-1][0])\n",
    "print(winners[-1][1])\n",
    "\n",
    "\n",
    "test = {  tuple(p[1])  for p in winners  }\n",
    "print(len(test))\n"
   ]
  },
  {
   "cell_type": "code",
   "execution_count": null,
   "metadata": {},
   "outputs": [],
   "source": [
    "solution_map['TOON_TOWN']"
   ]
  },
  {
   "cell_type": "code",
   "execution_count": null,
   "metadata": {},
   "outputs": [],
   "source": [
    "### use DFS to find all combinations\n",
    "\n",
    "all_possibilities = []\n",
    "\n",
    "#path:   main street, tomorrowland, fantasyland ....\n",
    "for pidx, path in enumerate(perms):\n",
    "    \n",
    "        path_possibilities = [  solution_map[path[0] ]  ]\n",
    "        \n",
    "        for i in range(1, len(path)):\n",
    "            r_source = path[i - 1]\n",
    "            r_target = path[i]\n",
    "            #source, target = main street, tomorrowland\n",
    "            \n",
    "            #is it a dead end?\n",
    "            ###\n",
    "            if not connection_exists(r_source, r_target, solution_map):\n",
    "                continue\n",
    "            \n",
    "            \n",
    "            \n",
    "            \n",
    "            #get connections:\n",
    "            #source = [  [entrance, store1 ], [entrance, store2]   ]\n",
    "            #target = [  [orbital, space mountain], [ buzz, nemo]   ]\n",
    "            \n",
    "            path_possibilities.append( solution_map[r_target] )\n",
    "        \n",
    "        \n",
    "        if len(path) == len(path_possibilities):\n",
    "            all_possibilities.append( path_possibilities  )\n",
    "        \n",
    "            \n",
    "\n",
    "\n",
    "\n",
    "\n",
    "\n"
   ]
  },
  {
   "cell_type": "code",
   "execution_count": null,
   "metadata": {},
   "outputs": [],
   "source": [
    "# all_possibilities[0]\n",
    "# print(len(all_possibilities))\n",
    "# print(len(all_possibilities[0]))\n",
    "# print((all_possibilities[0]))"
   ]
  },
  {
   "cell_type": "code",
   "execution_count": null,
   "metadata": {},
   "outputs": [],
   "source": [
    "#func\n",
    "\n",
    "def end_end_path_build(curr_path, curr_idx, path_perms ):\n",
    "    \n",
    "    if curr_idx >= len(curr_path):\n",
    "        return True\n",
    "    \n",
    "    \n",
    "\n",
    "#pick first index, check if "
   ]
  },
  {
   "cell_type": "code",
   "execution_count": null,
   "metadata": {},
   "outputs": [],
   "source": [
    "# for posib in all_possibilities:\n",
    "    \n",
    "    "
   ]
  },
  {
   "cell_type": "code",
   "execution_count": null,
   "metadata": {},
   "outputs": [],
   "source": [
    "print(deadend)"
   ]
  },
  {
   "cell_type": "code",
   "execution_count": null,
   "metadata": {},
   "outputs": [],
   "source": [
    "print(len(best_solutions))\n",
    "print(best_path)"
   ]
  },
  {
   "cell_type": "code",
   "execution_count": null,
   "metadata": {},
   "outputs": [],
   "source": [
    "\n",
    "conns = (\n",
    "#     (\"CRITTER_COUNTRY\", \"NEW_ORLEANS_SQUARE\"),\n",
    "#     (\"ADVENTURE_LAND\", \"NEW_ORLEANS_SQUARE\"),\n",
    "#     (\"ADVENTURE_LAND\", \"FRONTIER_LAND\"),\n",
    "#      (\"NEW_ORLEANS_SQUARE\", \"FRONTIER_LAND\"),\n",
    "#      (\"NEW_ORLEANS_SQUARE\", \"ADVENTURE_LAND\"),\n",
    "#          (\"NEW_ORLEANS_SQUARE\", \"CRITTER_COUNTRY\"),\n",
    "#              (\"MAIN_STREET\", \"ADVENTURE_LAND\"),\n",
    "#     (\"ADVENTURE_LAND\", \"FRONTIER_LAND\"),\n",
    "#     (\"FRONTIER_LAND\", \"NEW_ORLEANS_SQUARE\"),\n",
    "#     (\"NEW_ORLEANS_SQUARE\",\"CRITTER_COUNTRY\",),\n",
    "#     (\"CRITTER_COUNTRY\", \"STAR_WARS_GALAXY_EDGE\"),\n",
    "#     ( \"STAR_WARS_GALAXY_EDGE\", \"FANTASY_LAND\"),\n",
    "#     (\"FANTASY_LAND\", \"TOMORROW_LAND\"),\n",
    "    \n",
    "#         (\"NEW_ORLEANS_SQUARE\", \"STAR_WARS_GALAXY_EDGE\"),\n",
    "#                  (\"MAIN_STREET\", \"NEW_ORLEANS_SQUARE\"),\n",
    "    \n",
    "    (\"MAIN_STREET\", \"TOMORROW_LAND\"),\n",
    "    (\"FANTASY_LAND\", \"TOMORROW_LAND\"),\n",
    "    (\"FANTASY_LAND\", \"ADVENTURE_LAND\"),\n",
    "    (\"FRONTIER_LAND\", \"ADVENTURE_LAND\"),\n",
    "    (\"FRONTIER_LAND\", \"CRITTER_COUNTRY\"),\n",
    "    (\"NEW_ORLEANS_SQUARE\", \"CRITTER_COUNTRY\"),\n",
    "    (\"NEW_ORLEANS_SQUARE\", \"STAR_WARS_GALAXY_EDGE\"),\n",
    "    (\"FANTASY_LAND\", \"TOON_TOWN\"),\n",
    "\n",
    "\n",
    "    \n",
    "    \n",
    "    \n",
    "\n",
    "\n",
    ")\n",
    "\n",
    "for r_source, r_target in conns:\n",
    "    tmp_distance = find_best_connection_distance(r_source, r_target, solution_map)\n",
    "    print(r_source, r_target,  tmp_distance, (r_source, r_target) in deadend )"
   ]
  },
  {
   "cell_type": "code",
   "execution_count": null,
   "metadata": {},
   "outputs": [],
   "source": [
    "def find_best_toon_town_fantasy_link(solution_map, distances):\n",
    "    # check each end node from region1 against all start node from region2\n",
    "#     tmp_distance = Decimal(float(\"inf\"))\n",
    "    # get all solutions for source\n",
    "    best_combo = None\n",
    "#     resp_source, resp_target = None, None\n",
    "    resp = Decimal(\"inf\")\n",
    "#     for sol_source in solution_map[\"FANTASY_LAND\"]:\n",
    "    for  f1  in settings.FANTASY_LAND: \n",
    "        for sol_target in solution_map[\"TOON_TOWN\"]:\n",
    "#             s1, s2 = sol_source[0], sol_source[-1]\n",
    "#             t1, t2 = sol_target[0], sol_target[-1]\n",
    "            t1,t2 = sol_target[0], sol_target[-1]\n",
    "\n",
    "#             tmp_distance = min(distances.get((s1, t1), float(\"inf\")), tmp_distance)\n",
    "#             tmp_distance = min(distances.get((s1, t2), float(\"inf\")), tmp_distance)\n",
    "#             tmp_distance = min(distances.get((s2, t1), float(\"inf\")), tmp_distance)\n",
    "#             tmp_distance = min(distances.get((s2, t2), float(\"inf\")), tmp_distance)\n",
    "            tmp_distance1 = distances.get((f1, t1), Decimal(\"inf\"))\n",
    "                \n",
    "            if tmp_distance1 == Decimal(\"inf\"):\n",
    "                continue\n",
    "            \n",
    "            tmp_distance2 = calculate_path_distance( solution_map[\"TOON_TOWN\"][(t1,t2)]  ,distances )\n",
    "            buff = Decimal('inf')\n",
    "            f2_best = None\n",
    "            buff = Decimal('inf')\n",
    "            for f2 in  settings.FANTASY_LAND: \n",
    "                if f1 != f2:\n",
    "                    continue\n",
    "                    \n",
    "                tmp = distances.get( (t2, f2) , Decimal(\"inf\"))\n",
    "                buff = min(buff, tmp)\n",
    "                if buff == tmp:\n",
    "                    f2_best = f2\n",
    "            \n",
    "            if buff != Decimal(\"inf\"):\n",
    "                print(tmp_distance1,tmp_distance2,buff)\n",
    "                \n",
    "            tmp_distance = tmp_distance1+tmp_distance2+buff\n",
    "            \n",
    "            resp = min(resp, tmp_distance)\n",
    "            \n",
    "            if resp == tmp_distance:\n",
    "                best_combo = (  f1, t1,t2,f2_best )\n",
    "\n",
    "    return (resp, best_combo)\n",
    "\n",
    "\n",
    "z = find_best_toon_town_fantasy_link(solution_map, distances)"
   ]
  },
  {
   "cell_type": "code",
   "execution_count": null,
   "metadata": {},
   "outputs": [],
   "source": [
    "z"
   ]
  },
  {
   "cell_type": "code",
   "execution_count": null,
   "metadata": {},
   "outputs": [],
   "source": [
    "for key in solution_map['FANTASY_LAND']:\n",
    "    \n",
    "    k1, k2 = key\n",
    "    k1,k2 = ride_map[k1]['name'],ride_map[k2]['name']\n",
    "    \n",
    "    print(f\"{(k1,k2)}: {[   ride_map[e]['name']  for e in solution_map['FANTASY_LAND'][key]    ]}\\n\\n\")\n"
   ]
  },
  {
   "cell_type": "code",
   "execution_count": null,
   "metadata": {},
   "outputs": [],
   "source": [
    "for key in solution_map['ADVENTURE_LAND']:\n",
    "    \n",
    "    k1, k2 = key\n",
    "    k1,k2 = ride_map[k1]['name'],ride_map[k2]['name']\n",
    "    \n",
    "    print(f\"{(k1,k2)}: {[   ride_map[e]['name']  for e in solution_map['ADVENTURE_LAND'][key]    ]}\\n\\n\")"
   ]
  },
  {
   "cell_type": "code",
   "execution_count": null,
   "metadata": {},
   "outputs": [],
   "source": []
  }
 ],
 "metadata": {
  "kernelspec": {
   "display_name": "Python 3",
   "language": "python",
   "name": "python3"
  },
  "language_info": {
   "codemirror_mode": {
    "name": "ipython",
    "version": 3
   },
   "file_extension": ".py",
   "mimetype": "text/x-python",
   "name": "python",
   "nbconvert_exporter": "python",
   "pygments_lexer": "ipython3",
   "version": "3.7.6"
  }
 },
 "nbformat": 4,
 "nbformat_minor": 4
}
