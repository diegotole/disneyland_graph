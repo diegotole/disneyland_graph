{
 "cells": [
  {
   "cell_type": "code",
   "execution_count": 1,
   "metadata": {},
   "outputs": [],
   "source": [
    "# import pyximport; pyximport.install(language_level=\"3\")\n",
    "\n",
    "from matplotlib import pyplot as plt\n",
    "import csv\n",
    "import pandas as pd\n",
    "import networkx as nx\n",
    "from collections import defaultdict\n",
    "from settings import TOTAL_ROWS\n",
    "import cProfile\n",
    "# from utils import load_maps, load_df, display_dictionary,haversine, get_coord, get_distance\n",
    "from search_service import DFS \n",
    "\n"
   ]
  },
  {
   "cell_type": "code",
   "execution_count": 2,
   "metadata": {},
   "outputs": [],
   "source": [
    "from setuptools import setup\n",
    "from Cython.Build import cythonize"
   ]
  },
  {
   "cell_type": "code",
   "execution_count": 3,
   "metadata": {},
   "outputs": [
    {
     "name": "stdout",
     "output_type": "stream",
     "text": [
      "Compiling search_service.py because it changed.\n",
      "[1/1] Cythonizing search_service.py\n"
     ]
    },
    {
     "data": {
      "text/plain": [
       "[<setuptools.extension.Extension('search_service') at 0x129fee690>]"
      ]
     },
     "execution_count": 3,
     "metadata": {},
     "output_type": "execute_result"
    }
   ],
   "source": [
    "cythonize(\"search_service.py\", annotate=True, language_level=3)"
   ]
  },
  {
   "cell_type": "code",
   "execution_count": 4,
   "metadata": {},
   "outputs": [],
   "source": [
    "ATTRACTIONS_FNAME = \"disneyland_attractions.csv\"\n",
    "ATTRACTIONS_EDGES_FNAME = \"attractions_edges.csv\"\n",
    "    "
   ]
  },
  {
   "cell_type": "code",
   "execution_count": 5,
   "metadata": {},
   "outputs": [
    {
     "ename": "NameError",
     "evalue": "name 'load_maps' is not defined",
     "output_type": "error",
     "traceback": [
      "\u001b[0;31m---------------------------------------------------------------------------\u001b[0m",
      "\u001b[0;31mNameError\u001b[0m                                 Traceback (most recent call last)",
      "\u001b[0;32m<ipython-input-5-10fc501295ab>\u001b[0m in \u001b[0;36m<module>\u001b[0;34m\u001b[0m\n\u001b[1;32m      1\u001b[0m \u001b[0;31m# attractions_map_rotated = load_maps(ATTRACTIONS_FNAME, True)\u001b[0m\u001b[0;34m\u001b[0m\u001b[0;34m\u001b[0m\u001b[0;34m\u001b[0m\u001b[0m\n\u001b[0;32m----> 2\u001b[0;31m \u001b[0mattractions_map\u001b[0m \u001b[0;34m=\u001b[0m \u001b[0mload_maps\u001b[0m\u001b[0;34m(\u001b[0m\u001b[0mATTRACTIONS_FNAME\u001b[0m\u001b[0;34m,\u001b[0m \u001b[0;32mFalse\u001b[0m\u001b[0;34m)\u001b[0m\u001b[0;34m\u001b[0m\u001b[0;34m\u001b[0m\u001b[0m\n\u001b[0m",
      "\u001b[0;31mNameError\u001b[0m: name 'load_maps' is not defined"
     ]
    }
   ],
   "source": [
    "# attractions_map_rotated = load_maps(ATTRACTIONS_FNAME, True)\n",
    "attractions_map = load_maps(ATTRACTIONS_FNAME, False)\n"
   ]
  },
  {
   "cell_type": "code",
   "execution_count": null,
   "metadata": {},
   "outputs": [],
   "source": [
    "from settings import *"
   ]
  },
  {
   "cell_type": "code",
   "execution_count": null,
   "metadata": {},
   "outputs": [],
   "source": [
    "\n",
    "# attractions_map\n",
    "display_dictionary(attractions_map)"
   ]
  },
  {
   "cell_type": "code",
   "execution_count": null,
   "metadata": {},
   "outputs": [],
   "source": [
    "\n",
    "\n",
    "\n",
    "  \n",
    "\n",
    "    \n",
    "# def generate_edges(mymap, max_distance):\n",
    "    \n",
    "#     for key,value in mymap.items()\n",
    "\n"
   ]
  },
  {
   "cell_type": "code",
   "execution_count": null,
   "metadata": {},
   "outputs": [],
   "source": [
    "get_distance(MINNIES_HOUSE_ID, RAIL_ROAD_ENTRANCE_ID, attractions_map)"
   ]
  },
  {
   "cell_type": "code",
   "execution_count": null,
   "metadata": {},
   "outputs": [],
   "source": []
  },
  {
   "cell_type": "code",
   "execution_count": null,
   "metadata": {},
   "outputs": [],
   "source": [
    "#80 is the best\n",
    "edges = set()\n",
    "max_distance = 80\n",
    "for k1,v1 in attractions_map.items():\n",
    "    for k2,v2 in attractions_map.items():\n",
    "       \n",
    "        if k1 == k2:\n",
    "            continue\n",
    "    \n",
    "        source = min(k1, k2)\n",
    "        target = max(k1,k2)\n",
    "        d = get_distance(source, target , attractions_map)*1000\n",
    "        if d <= max_distance:\n",
    "            edges.add( (source, target))\n",
    "\n",
    "    \n",
    "    \n",
    "       "
   ]
  },
  {
   "cell_type": "code",
   "execution_count": null,
   "metadata": {},
   "outputs": [],
   "source": [
    "display_dictionary(attractions_map, edges)"
   ]
  },
  {
   "cell_type": "code",
   "execution_count": null,
   "metadata": {},
   "outputs": [],
   "source": [
    "hard_coded_edges = set()\n",
    "\n",
    "hard_coded_edges.add( (SPACE_MOUNTAIN_ID,SW_LAUNCH_BAY )   )\n",
    "hard_coded_edges.add( (SPACE_MOUNTAIN_ID, SW_TOURS)   )\n",
    "\n",
    "\n",
    "hard_coded_edges.add( (BUZZ_RIDE,SW_LAUNCH_BAY )   )\n",
    "\n",
    "# WINNIE_POOH = \"0A8B71CAD913A7BD8AA9\"\n",
    "# SW_ENTRANCE_ADV_LAND = \"0B76231CE813D58AA419\"\n",
    "# SW_ENTRANCE_FANTASY_LAND = \"045BFCC4E813D58E7955\"\n",
    "# SW_ENTRANCE_FRONTIER_LAND = \"02E9209DE313D58F29B2\"\n",
    "#DAVY_CROC = \"0CC239AEC813B172106A\"\n",
    "\n",
    "\n",
    "# STORY_BOOK_ \"0F27749CE713A7C2EBF6\"\n",
    "# SMALL_WORLD = \"0600C026F613A7C19D77\"\n",
    "hard_coded_edges.add( (STORY_BOOK,SMALL_WORLD )   )\n",
    "\n",
    "hard_coded_edges.add( (STORY_BOOK,SMALL_WORLD_HOLIDAY )   )\n",
    "\n",
    "\n",
    "hard_coded_edges.add( (RISE_RESISTANCE,SMUGGLERS_RUN )   )\n",
    "hard_coded_edges.add( (RISE_RESISTANCE,SW_ENTRANCE_FRONTIER_LAND )   )\n",
    "\n",
    "\n",
    "hard_coded_edges.add( (SW_ENTRANCE_FANTASY_LAND,SMUGGLERS_RUN )   )\n",
    "hard_coded_edges.add( (SW_ENTRANCE_ADV_LAND,SMUGGLERS_RUN )   )\n",
    "\n",
    "\n",
    "hard_coded_edges.add( (DAVY_CROC,SW_ENTRANCE_FRONTIER_LAND )   )\n",
    "hard_coded_edges.add( (WINNIE_POOH,SW_ENTRANCE_FRONTIER_LAND )   )\n",
    "\n",
    "\n",
    "\n",
    "\n",
    "hard_coded_edges.add( (FORTUNE_TELLER_MST_ID,TIKI_ROOM_ID )   )\n",
    "hard_coded_edges.add( (FORTUNE_TELLER_MST_ID, CASTLE_ID)   )\n",
    "hard_coded_edges.add( (FORTUNE_TELLER_MST_ID, ASTRO_ORBITOR_ID)   )\n",
    "\n",
    "hard_coded_edges.add( (TIKI_ROOM_ID, CASTLE_ID)   )\n",
    "hard_coded_edges.add( (TIKI_ROOM_ID, ASTRO_ORBITOR_ID)   )\n",
    "\n",
    "hard_coded_edges.add( (CASTLE_ID, ASTRO_ORBITOR_ID)   )\n",
    "\n",
    "\n",
    "print(len(edges))\n",
    "edges = edges.union( hard_coded_edges )\n",
    "print(len(edges))\n",
    "\n",
    "display_dictionary(attractions_map, edges)"
   ]
  },
  {
   "cell_type": "code",
   "execution_count": null,
   "metadata": {},
   "outputs": [],
   "source": [
    "edges_dict = defaultdict(list)\n",
    "\n",
    "for e in edges:\n",
    "    \n",
    "    edges_dict[e[0]].append(e[1])\n",
    "    edges_dict[e[1]].append(e[0])\n",
    "\n",
    "for k in edges_dict.keys():\n",
    "    edges_dict[k] = tuple(edges_dict[k])\n",
    "    \n"
   ]
  },
  {
   "cell_type": "code",
   "execution_count": null,
   "metadata": {},
   "outputs": [],
   "source": [
    "DFS.mydict = attractions_map\n",
    "DFS.edges_dict = edges_dict\n",
    "DFS.start( )"
   ]
  },
  {
   "cell_type": "code",
   "execution_count": null,
   "metadata": {},
   "outputs": [],
   "source": [
    "# DFS.hops = 0\n",
    "# DFS.hops\n",
    "\n",
    "# DFS.mypath\n",
    "\n",
    "preview_edges = []\n",
    "\n",
    "for i in range(1, len(DFS.mypath)):\n",
    "    preview_edges.append(\n",
    "        (DFS.mypath[i-1],DFS.mypath[i])\n",
    "    )\n",
    "    \n",
    "display_dictionary(attractions_map, preview_edges)    "
   ]
  },
  {
   "cell_type": "code",
   "execution_count": null,
   "metadata": {},
   "outputs": [],
   "source": []
  },
  {
   "cell_type": "code",
   "execution_count": null,
   "metadata": {},
   "outputs": [],
   "source": [
    "# DFS(edges_dict, [], RAIL_ROAD_ENTRANCE_ID)\n",
    "\n",
    "cProfile.run('DFS.start()')"
   ]
  },
  {
   "cell_type": "code",
   "execution_count": null,
   "metadata": {},
   "outputs": [],
   "source": [
    "RAIL_ROAD_ENTRANCE_ID"
   ]
  },
  {
   "cell_type": "code",
   "execution_count": null,
   "metadata": {},
   "outputs": [],
   "source": [
    "%load_ext line_profiler"
   ]
  },
  {
   "cell_type": "code",
   "execution_count": null,
   "metadata": {},
   "outputs": [],
   "source": [
    "DFS.reset_me()\n",
    "print(DFS.hops)\n",
    "#DFS.stop_search"
   ]
  },
  {
   "cell_type": "code",
   "execution_count": null,
   "metadata": {},
   "outputs": [],
   "source": [
    "%lprun -f DFS.jump DFS.start( )"
   ]
  },
  {
   "cell_type": "code",
   "execution_count": null,
   "metadata": {},
   "outputs": [],
   "source": [
    "edges_dict[RAIL_ROAD_ENTRANCE_ID]"
   ]
  },
  {
   "cell_type": "code",
   "execution_count": null,
   "metadata": {},
   "outputs": [],
   "source": []
  }
 ],
 "metadata": {
  "kernelspec": {
   "display_name": "Python 3",
   "language": "python",
   "name": "python3"
  },
  "language_info": {
   "codemirror_mode": {
    "name": "ipython",
    "version": 3
   },
   "file_extension": ".py",
   "mimetype": "text/x-python",
   "name": "python",
   "nbconvert_exporter": "python",
   "pygments_lexer": "ipython3",
   "version": "3.7.6"
  }
 },
 "nbformat": 4,
 "nbformat_minor": 4
}
